{
 "cells": [
  {
   "cell_type": "markdown",
   "metadata": {},
   "source": [
    "# 1.0 Project Overview"
   ]
  },
  {
   "cell_type": "markdown",
   "metadata": {},
   "source": [
    "### For this project, I used CRISP - DM methodology to perform data cleaning, imputation, analysis, and visualization and generate insights for the business stakeholder."
   ]
  },
  {
   "cell_type": "markdown",
   "metadata": {},
   "source": [
    "# 1.1 Business Understanding"
   ]
  },
  {
   "cell_type": "markdown",
   "metadata": {},
   "source": [
    "### The company is expanding in to new industries to diversify its portfolio. Specifically, it is interested in purchasing and operating airplanes for commercial and private enterprises, but do not know anything about the potential risks of aircraft. This analysis is expected to determine: \n",
    "#### 1.1.1 Which aircraft are the lowest risk for the company to start this new business endeavor. \n",
    "#### 1.1.2 I must translate my findings into actionable insights that the head of the new aviation division can use to help decide which aircraft to purchase."
   ]
  },
  {
   "cell_type": "markdown",
   "metadata": {},
   "source": [
    "# 1.2 The Data"
   ]
  },
  {
   "cell_type": "markdown",
   "metadata": {},
   "source": [
    "### I have sourced my data from the dataset link https://www.kaggle.com/datasets/khsamaha/aviation-accident-database-synopses, from the National Transportation Safety Board that includes aviation accident data from 1962 to 2023 about civil aviation accidents and selected incidents in the United States and international waters."
   ]
  },
  {
   "cell_type": "markdown",
   "metadata": {},
   "source": [
    "# 2.0 Data Understanding and Analysis"
   ]
  },
  {
   "cell_type": "markdown",
   "metadata": {},
   "source": [
    "## 2.1 Importing Libraries"
   ]
  },
  {
   "cell_type": "markdown",
   "metadata": {},
   "source": [
    " To import a collection of functions that can be added to the python code"
   ]
  },
  {
   "cell_type": "code",
   "execution_count": 64,
   "metadata": {},
   "outputs": [],
   "source": [
    "# Importing the libraries I will need\n",
    "\n",
    "# Importing the pandas library\n",
    "#\n",
    "import pandas as pd # used for working with data sets\n",
    "\n",
    "# Importing the numpy library\n",
    "#\n",
    "import numpy as np # used for mathematical computation # built on top of pandas\n",
    "#\n",
    "import matplotlib.pyplot as plt # to be used to plot visuals\n",
    "#\n",
    "import seaborn as sns # to use in plotting"
   ]
  },
  {
   "cell_type": "markdown",
   "metadata": {},
   "source": [
    "## 2.2 Reading the Dataset from CSV files"
   ]
  },
  {
   "cell_type": "markdown",
   "metadata": {},
   "source": [
    "To read comma separeted values files"
   ]
  },
  {
   "cell_type": "code",
   "execution_count": 65,
   "metadata": {},
   "outputs": [],
   "source": [
    "# Read the data from the CSV files and create dataframe to be used\n",
    "#\n",
    "df= pd.read_csv(\"AviationData.csv\", encoding='ISO-8859-1', engine='python') \n",
    "df1= pd.read_csv(\"USState_Codes.csv\")"
   ]
  },
  {
   "cell_type": "markdown",
   "metadata": {},
   "source": [
    "### 2.2.1 Previewing the Dataset"
   ]
  },
  {
   "cell_type": "markdown",
   "metadata": {},
   "source": [
    "Exploring the data set for information."
   ]
  },
  {
   "cell_type": "code",
   "execution_count": 66,
   "metadata": {},
   "outputs": [
    {
     "data": {
      "text/html": [
       "<div>\n",
       "<style scoped>\n",
       "    .dataframe tbody tr th:only-of-type {\n",
       "        vertical-align: middle;\n",
       "    }\n",
       "\n",
       "    .dataframe tbody tr th {\n",
       "        vertical-align: top;\n",
       "    }\n",
       "\n",
       "    .dataframe thead th {\n",
       "        text-align: right;\n",
       "    }\n",
       "</style>\n",
       "<table border=\"1\" class=\"dataframe\">\n",
       "  <thead>\n",
       "    <tr style=\"text-align: right;\">\n",
       "      <th></th>\n",
       "      <th>Event.Id</th>\n",
       "      <th>Investigation.Type</th>\n",
       "      <th>Accident.Number</th>\n",
       "      <th>Event.Date</th>\n",
       "      <th>Location</th>\n",
       "      <th>Country</th>\n",
       "      <th>Latitude</th>\n",
       "      <th>Longitude</th>\n",
       "      <th>Airport.Code</th>\n",
       "      <th>Airport.Name</th>\n",
       "      <th>...</th>\n",
       "      <th>Purpose.of.flight</th>\n",
       "      <th>Air.carrier</th>\n",
       "      <th>Total.Fatal.Injuries</th>\n",
       "      <th>Total.Serious.Injuries</th>\n",
       "      <th>Total.Minor.Injuries</th>\n",
       "      <th>Total.Uninjured</th>\n",
       "      <th>Weather.Condition</th>\n",
       "      <th>Broad.phase.of.flight</th>\n",
       "      <th>Report.Status</th>\n",
       "      <th>Publication.Date</th>\n",
       "    </tr>\n",
       "  </thead>\n",
       "  <tbody>\n",
       "    <tr>\n",
       "      <th>0</th>\n",
       "      <td>20001218X45444</td>\n",
       "      <td>Accident</td>\n",
       "      <td>SEA87LA080</td>\n",
       "      <td>1948-10-24</td>\n",
       "      <td>MOOSE CREEK, ID</td>\n",
       "      <td>United States</td>\n",
       "      <td>NaN</td>\n",
       "      <td>NaN</td>\n",
       "      <td>NaN</td>\n",
       "      <td>NaN</td>\n",
       "      <td>...</td>\n",
       "      <td>Personal</td>\n",
       "      <td>NaN</td>\n",
       "      <td>2.0</td>\n",
       "      <td>0.0</td>\n",
       "      <td>0.0</td>\n",
       "      <td>0.0</td>\n",
       "      <td>UNK</td>\n",
       "      <td>Cruise</td>\n",
       "      <td>Probable Cause</td>\n",
       "      <td>NaN</td>\n",
       "    </tr>\n",
       "    <tr>\n",
       "      <th>1</th>\n",
       "      <td>20001218X45447</td>\n",
       "      <td>Accident</td>\n",
       "      <td>LAX94LA336</td>\n",
       "      <td>1962-07-19</td>\n",
       "      <td>BRIDGEPORT, CA</td>\n",
       "      <td>United States</td>\n",
       "      <td>NaN</td>\n",
       "      <td>NaN</td>\n",
       "      <td>NaN</td>\n",
       "      <td>NaN</td>\n",
       "      <td>...</td>\n",
       "      <td>Personal</td>\n",
       "      <td>NaN</td>\n",
       "      <td>4.0</td>\n",
       "      <td>0.0</td>\n",
       "      <td>0.0</td>\n",
       "      <td>0.0</td>\n",
       "      <td>UNK</td>\n",
       "      <td>Unknown</td>\n",
       "      <td>Probable Cause</td>\n",
       "      <td>19-09-1996</td>\n",
       "    </tr>\n",
       "    <tr>\n",
       "      <th>2</th>\n",
       "      <td>20061025X01555</td>\n",
       "      <td>Accident</td>\n",
       "      <td>NYC07LA005</td>\n",
       "      <td>1974-08-30</td>\n",
       "      <td>Saltville, VA</td>\n",
       "      <td>United States</td>\n",
       "      <td>36.922223</td>\n",
       "      <td>-81.878056</td>\n",
       "      <td>NaN</td>\n",
       "      <td>NaN</td>\n",
       "      <td>...</td>\n",
       "      <td>Personal</td>\n",
       "      <td>NaN</td>\n",
       "      <td>3.0</td>\n",
       "      <td>NaN</td>\n",
       "      <td>NaN</td>\n",
       "      <td>NaN</td>\n",
       "      <td>IMC</td>\n",
       "      <td>Cruise</td>\n",
       "      <td>Probable Cause</td>\n",
       "      <td>26-02-2007</td>\n",
       "    </tr>\n",
       "    <tr>\n",
       "      <th>3</th>\n",
       "      <td>20001218X45448</td>\n",
       "      <td>Accident</td>\n",
       "      <td>LAX96LA321</td>\n",
       "      <td>1977-06-19</td>\n",
       "      <td>EUREKA, CA</td>\n",
       "      <td>United States</td>\n",
       "      <td>NaN</td>\n",
       "      <td>NaN</td>\n",
       "      <td>NaN</td>\n",
       "      <td>NaN</td>\n",
       "      <td>...</td>\n",
       "      <td>Personal</td>\n",
       "      <td>NaN</td>\n",
       "      <td>2.0</td>\n",
       "      <td>0.0</td>\n",
       "      <td>0.0</td>\n",
       "      <td>0.0</td>\n",
       "      <td>IMC</td>\n",
       "      <td>Cruise</td>\n",
       "      <td>Probable Cause</td>\n",
       "      <td>12-09-2000</td>\n",
       "    </tr>\n",
       "    <tr>\n",
       "      <th>4</th>\n",
       "      <td>20041105X01764</td>\n",
       "      <td>Accident</td>\n",
       "      <td>CHI79FA064</td>\n",
       "      <td>1979-08-02</td>\n",
       "      <td>Canton, OH</td>\n",
       "      <td>United States</td>\n",
       "      <td>NaN</td>\n",
       "      <td>NaN</td>\n",
       "      <td>NaN</td>\n",
       "      <td>NaN</td>\n",
       "      <td>...</td>\n",
       "      <td>Personal</td>\n",
       "      <td>NaN</td>\n",
       "      <td>1.0</td>\n",
       "      <td>2.0</td>\n",
       "      <td>NaN</td>\n",
       "      <td>0.0</td>\n",
       "      <td>VMC</td>\n",
       "      <td>Approach</td>\n",
       "      <td>Probable Cause</td>\n",
       "      <td>16-04-1980</td>\n",
       "    </tr>\n",
       "  </tbody>\n",
       "</table>\n",
       "<p>5 rows × 31 columns</p>\n",
       "</div>"
      ],
      "text/plain": [
       "         Event.Id Investigation.Type Accident.Number  Event.Date  \\\n",
       "0  20001218X45444           Accident      SEA87LA080  1948-10-24   \n",
       "1  20001218X45447           Accident      LAX94LA336  1962-07-19   \n",
       "2  20061025X01555           Accident      NYC07LA005  1974-08-30   \n",
       "3  20001218X45448           Accident      LAX96LA321  1977-06-19   \n",
       "4  20041105X01764           Accident      CHI79FA064  1979-08-02   \n",
       "\n",
       "          Location        Country   Latitude   Longitude Airport.Code  \\\n",
       "0  MOOSE CREEK, ID  United States        NaN         NaN          NaN   \n",
       "1   BRIDGEPORT, CA  United States        NaN         NaN          NaN   \n",
       "2    Saltville, VA  United States  36.922223  -81.878056          NaN   \n",
       "3       EUREKA, CA  United States        NaN         NaN          NaN   \n",
       "4       Canton, OH  United States        NaN         NaN          NaN   \n",
       "\n",
       "  Airport.Name  ... Purpose.of.flight Air.carrier Total.Fatal.Injuries  \\\n",
       "0          NaN  ...          Personal         NaN                  2.0   \n",
       "1          NaN  ...          Personal         NaN                  4.0   \n",
       "2          NaN  ...          Personal         NaN                  3.0   \n",
       "3          NaN  ...          Personal         NaN                  2.0   \n",
       "4          NaN  ...          Personal         NaN                  1.0   \n",
       "\n",
       "  Total.Serious.Injuries Total.Minor.Injuries Total.Uninjured  \\\n",
       "0                    0.0                  0.0             0.0   \n",
       "1                    0.0                  0.0             0.0   \n",
       "2                    NaN                  NaN             NaN   \n",
       "3                    0.0                  0.0             0.0   \n",
       "4                    2.0                  NaN             0.0   \n",
       "\n",
       "  Weather.Condition  Broad.phase.of.flight   Report.Status Publication.Date  \n",
       "0               UNK                 Cruise  Probable Cause              NaN  \n",
       "1               UNK                Unknown  Probable Cause       19-09-1996  \n",
       "2               IMC                 Cruise  Probable Cause       26-02-2007  \n",
       "3               IMC                 Cruise  Probable Cause       12-09-2000  \n",
       "4               VMC               Approach  Probable Cause       16-04-1980  \n",
       "\n",
       "[5 rows x 31 columns]"
      ]
     },
     "execution_count": 66,
     "metadata": {},
     "output_type": "execute_result"
    }
   ],
   "source": [
    "# To preview the first 5 rows of the AviationData assigned to df to ensure that it has been loaded correctly.\n",
    "#\n",
    "df.head()\n"
   ]
  },
  {
   "cell_type": "markdown",
   "metadata": {},
   "source": [
    "Information about the dataset:\n",
    "- The data frame contains 31 rows with information about aviation accidents.\n",
    "- There are columns with null values."
   ]
  },
  {
   "cell_type": "code",
   "execution_count": 67,
   "metadata": {},
   "outputs": [
    {
     "data": {
      "text/html": [
       "<div>\n",
       "<style scoped>\n",
       "    .dataframe tbody tr th:only-of-type {\n",
       "        vertical-align: middle;\n",
       "    }\n",
       "\n",
       "    .dataframe tbody tr th {\n",
       "        vertical-align: top;\n",
       "    }\n",
       "\n",
       "    .dataframe thead th {\n",
       "        text-align: right;\n",
       "    }\n",
       "</style>\n",
       "<table border=\"1\" class=\"dataframe\">\n",
       "  <thead>\n",
       "    <tr style=\"text-align: right;\">\n",
       "      <th></th>\n",
       "      <th>US_State</th>\n",
       "      <th>Abbreviation</th>\n",
       "    </tr>\n",
       "  </thead>\n",
       "  <tbody>\n",
       "    <tr>\n",
       "      <th>0</th>\n",
       "      <td>Alabama</td>\n",
       "      <td>AL</td>\n",
       "    </tr>\n",
       "    <tr>\n",
       "      <th>1</th>\n",
       "      <td>Alaska</td>\n",
       "      <td>AK</td>\n",
       "    </tr>\n",
       "    <tr>\n",
       "      <th>2</th>\n",
       "      <td>Arizona</td>\n",
       "      <td>AZ</td>\n",
       "    </tr>\n",
       "    <tr>\n",
       "      <th>3</th>\n",
       "      <td>Arkansas</td>\n",
       "      <td>AR</td>\n",
       "    </tr>\n",
       "    <tr>\n",
       "      <th>4</th>\n",
       "      <td>California</td>\n",
       "      <td>CA</td>\n",
       "    </tr>\n",
       "  </tbody>\n",
       "</table>\n",
       "</div>"
      ],
      "text/plain": [
       "     US_State Abbreviation\n",
       "0     Alabama           AL\n",
       "1      Alaska           AK\n",
       "2     Arizona           AZ\n",
       "3    Arkansas           AR\n",
       "4  California           CA"
      ]
     },
     "execution_count": 67,
     "metadata": {},
     "output_type": "execute_result"
    }
   ],
   "source": [
    "# To preview the first 5 rows of the US states data assigned to df1 to ensure that it has been loaded correctly.\n",
    "#\n",
    "df1.head()\n"
   ]
  },
  {
   "cell_type": "markdown",
   "metadata": {},
   "source": [
    "Information about the dataset\n",
    "- The dataset contains US States and their abbreviations"
   ]
  },
  {
   "cell_type": "code",
   "execution_count": 68,
   "metadata": {},
   "outputs": [
    {
     "name": "stdout",
     "output_type": "stream",
     "text": [
      "<class 'pandas.core.frame.DataFrame'>\n",
      "RangeIndex: 88889 entries, 0 to 88888\n",
      "Data columns (total 31 columns):\n",
      " #   Column                  Non-Null Count  Dtype  \n",
      "---  ------                  --------------  -----  \n",
      " 0   Event.Id                88889 non-null  object \n",
      " 1   Investigation.Type      88889 non-null  object \n",
      " 2   Accident.Number         88889 non-null  object \n",
      " 3   Event.Date              88889 non-null  object \n",
      " 4   Location                88837 non-null  object \n",
      " 5   Country                 88663 non-null  object \n",
      " 6   Latitude                34382 non-null  object \n",
      " 7   Longitude               34373 non-null  object \n",
      " 8   Airport.Code            50249 non-null  object \n",
      " 9   Airport.Name            52790 non-null  object \n",
      " 10  Injury.Severity         87889 non-null  object \n",
      " 11  Aircraft.damage         85695 non-null  object \n",
      " 12  Aircraft.Category       32287 non-null  object \n",
      " 13  Registration.Number     87572 non-null  object \n",
      " 14  Make                    88826 non-null  object \n",
      " 15  Model                   88797 non-null  object \n",
      " 16  Amateur.Built           88787 non-null  object \n",
      " 17  Number.of.Engines       82805 non-null  float64\n",
      " 18  Engine.Type             81812 non-null  object \n",
      " 19  FAR.Description         32023 non-null  object \n",
      " 20  Schedule                12582 non-null  object \n",
      " 21  Purpose.of.flight       82697 non-null  object \n",
      " 22  Air.carrier             16648 non-null  object \n",
      " 23  Total.Fatal.Injuries    77488 non-null  float64\n",
      " 24  Total.Serious.Injuries  76379 non-null  float64\n",
      " 25  Total.Minor.Injuries    76956 non-null  float64\n",
      " 26  Total.Uninjured         82977 non-null  float64\n",
      " 27  Weather.Condition       84397 non-null  object \n",
      " 28  Broad.phase.of.flight   61724 non-null  object \n",
      " 29  Report.Status           82508 non-null  object \n",
      " 30  Publication.Date        75118 non-null  object \n",
      "dtypes: float64(5), object(26)\n",
      "memory usage: 21.0+ MB\n"
     ]
    }
   ],
   "source": [
    "# Getting to know more about the dataset by accessing its information\n",
    "#\n",
    "df.info()\n"
   ]
  },
  {
   "cell_type": "markdown",
   "metadata": {},
   "source": [
    "Information about the data set:\n",
    "- 88889 rows and 31 columns successfully loaded\n",
    "- Data types: 5 columns with float64 type of data and 26 columns with object type of data\n",
    "- There are columns with null values examples: Location, Country, Latitude, Longitude, Airport.Code, Airport.Name, Injury.Severity,Aircraft.damage, Aircraft.Category, Registration.Number,Make, Model, Amateur.Built, Number.of.Engines, Engine.Type, FAR.Description, Report.Status and Publication.Date  "
   ]
  },
  {
   "cell_type": "code",
   "execution_count": 69,
   "metadata": {},
   "outputs": [
    {
     "name": "stdout",
     "output_type": "stream",
     "text": [
      "<class 'pandas.core.frame.DataFrame'>\n",
      "RangeIndex: 62 entries, 0 to 61\n",
      "Data columns (total 2 columns):\n",
      " #   Column        Non-Null Count  Dtype \n",
      "---  ------        --------------  ----- \n",
      " 0   US_State      62 non-null     object\n",
      " 1   Abbreviation  62 non-null     object\n",
      "dtypes: object(2)\n",
      "memory usage: 1.1+ KB\n"
     ]
    }
   ],
   "source": [
    "# Getting to know more about the dataset by accessing its information\n",
    "#\n",
    "df1.info()\n"
   ]
  },
  {
   "cell_type": "markdown",
   "metadata": {},
   "source": [
    "Information about the dataset:\n",
    "- The dataset has two columns\n",
    "- The columns in the data set has no null values"
   ]
  },
  {
   "cell_type": "code",
   "execution_count": 70,
   "metadata": {},
   "outputs": [
    {
     "data": {
      "text/html": [
       "<div>\n",
       "<style scoped>\n",
       "    .dataframe tbody tr th:only-of-type {\n",
       "        vertical-align: middle;\n",
       "    }\n",
       "\n",
       "    .dataframe tbody tr th {\n",
       "        vertical-align: top;\n",
       "    }\n",
       "\n",
       "    .dataframe thead th {\n",
       "        text-align: right;\n",
       "    }\n",
       "</style>\n",
       "<table border=\"1\" class=\"dataframe\">\n",
       "  <thead>\n",
       "    <tr style=\"text-align: right;\">\n",
       "      <th></th>\n",
       "      <th>Event.Id</th>\n",
       "      <th>Investigation.Type</th>\n",
       "      <th>Accident.Number</th>\n",
       "      <th>Event.Date</th>\n",
       "      <th>Location</th>\n",
       "      <th>Country</th>\n",
       "      <th>Latitude</th>\n",
       "      <th>Longitude</th>\n",
       "      <th>Airport.Code</th>\n",
       "      <th>Airport.Name</th>\n",
       "      <th>...</th>\n",
       "      <th>Purpose.of.flight</th>\n",
       "      <th>Air.carrier</th>\n",
       "      <th>Total.Fatal.Injuries</th>\n",
       "      <th>Total.Serious.Injuries</th>\n",
       "      <th>Total.Minor.Injuries</th>\n",
       "      <th>Total.Uninjured</th>\n",
       "      <th>Weather.Condition</th>\n",
       "      <th>Broad.phase.of.flight</th>\n",
       "      <th>Report.Status</th>\n",
       "      <th>Publication.Date</th>\n",
       "    </tr>\n",
       "  </thead>\n",
       "  <tbody>\n",
       "    <tr>\n",
       "      <th>88884</th>\n",
       "      <td>20221227106491</td>\n",
       "      <td>Accident</td>\n",
       "      <td>ERA23LA093</td>\n",
       "      <td>2022-12-26</td>\n",
       "      <td>Annapolis, MD</td>\n",
       "      <td>United States</td>\n",
       "      <td>NaN</td>\n",
       "      <td>NaN</td>\n",
       "      <td>NaN</td>\n",
       "      <td>NaN</td>\n",
       "      <td>...</td>\n",
       "      <td>Personal</td>\n",
       "      <td>NaN</td>\n",
       "      <td>0.0</td>\n",
       "      <td>1.0</td>\n",
       "      <td>0.0</td>\n",
       "      <td>0.0</td>\n",
       "      <td>NaN</td>\n",
       "      <td>NaN</td>\n",
       "      <td>NaN</td>\n",
       "      <td>29-12-2022</td>\n",
       "    </tr>\n",
       "    <tr>\n",
       "      <th>88885</th>\n",
       "      <td>20221227106494</td>\n",
       "      <td>Accident</td>\n",
       "      <td>ERA23LA095</td>\n",
       "      <td>2022-12-26</td>\n",
       "      <td>Hampton, NH</td>\n",
       "      <td>United States</td>\n",
       "      <td>NaN</td>\n",
       "      <td>NaN</td>\n",
       "      <td>NaN</td>\n",
       "      <td>NaN</td>\n",
       "      <td>...</td>\n",
       "      <td>NaN</td>\n",
       "      <td>NaN</td>\n",
       "      <td>0.0</td>\n",
       "      <td>0.0</td>\n",
       "      <td>0.0</td>\n",
       "      <td>0.0</td>\n",
       "      <td>NaN</td>\n",
       "      <td>NaN</td>\n",
       "      <td>NaN</td>\n",
       "      <td>NaN</td>\n",
       "    </tr>\n",
       "    <tr>\n",
       "      <th>88886</th>\n",
       "      <td>20221227106497</td>\n",
       "      <td>Accident</td>\n",
       "      <td>WPR23LA075</td>\n",
       "      <td>2022-12-26</td>\n",
       "      <td>Payson, AZ</td>\n",
       "      <td>United States</td>\n",
       "      <td>341525N</td>\n",
       "      <td>1112021W</td>\n",
       "      <td>PAN</td>\n",
       "      <td>PAYSON</td>\n",
       "      <td>...</td>\n",
       "      <td>Personal</td>\n",
       "      <td>NaN</td>\n",
       "      <td>0.0</td>\n",
       "      <td>0.0</td>\n",
       "      <td>0.0</td>\n",
       "      <td>1.0</td>\n",
       "      <td>VMC</td>\n",
       "      <td>NaN</td>\n",
       "      <td>NaN</td>\n",
       "      <td>27-12-2022</td>\n",
       "    </tr>\n",
       "    <tr>\n",
       "      <th>88887</th>\n",
       "      <td>20221227106498</td>\n",
       "      <td>Accident</td>\n",
       "      <td>WPR23LA076</td>\n",
       "      <td>2022-12-26</td>\n",
       "      <td>Morgan, UT</td>\n",
       "      <td>United States</td>\n",
       "      <td>NaN</td>\n",
       "      <td>NaN</td>\n",
       "      <td>NaN</td>\n",
       "      <td>NaN</td>\n",
       "      <td>...</td>\n",
       "      <td>Personal</td>\n",
       "      <td>MC CESSNA 210N LLC</td>\n",
       "      <td>0.0</td>\n",
       "      <td>0.0</td>\n",
       "      <td>0.0</td>\n",
       "      <td>0.0</td>\n",
       "      <td>NaN</td>\n",
       "      <td>NaN</td>\n",
       "      <td>NaN</td>\n",
       "      <td>NaN</td>\n",
       "    </tr>\n",
       "    <tr>\n",
       "      <th>88888</th>\n",
       "      <td>20221230106513</td>\n",
       "      <td>Accident</td>\n",
       "      <td>ERA23LA097</td>\n",
       "      <td>2022-12-29</td>\n",
       "      <td>Athens, GA</td>\n",
       "      <td>United States</td>\n",
       "      <td>NaN</td>\n",
       "      <td>NaN</td>\n",
       "      <td>NaN</td>\n",
       "      <td>NaN</td>\n",
       "      <td>...</td>\n",
       "      <td>Personal</td>\n",
       "      <td>NaN</td>\n",
       "      <td>0.0</td>\n",
       "      <td>1.0</td>\n",
       "      <td>0.0</td>\n",
       "      <td>1.0</td>\n",
       "      <td>NaN</td>\n",
       "      <td>NaN</td>\n",
       "      <td>NaN</td>\n",
       "      <td>30-12-2022</td>\n",
       "    </tr>\n",
       "  </tbody>\n",
       "</table>\n",
       "<p>5 rows × 31 columns</p>\n",
       "</div>"
      ],
      "text/plain": [
       "             Event.Id Investigation.Type Accident.Number  Event.Date  \\\n",
       "88884  20221227106491           Accident      ERA23LA093  2022-12-26   \n",
       "88885  20221227106494           Accident      ERA23LA095  2022-12-26   \n",
       "88886  20221227106497           Accident      WPR23LA075  2022-12-26   \n",
       "88887  20221227106498           Accident      WPR23LA076  2022-12-26   \n",
       "88888  20221230106513           Accident      ERA23LA097  2022-12-29   \n",
       "\n",
       "            Location        Country Latitude Longitude Airport.Code  \\\n",
       "88884  Annapolis, MD  United States      NaN       NaN          NaN   \n",
       "88885    Hampton, NH  United States      NaN       NaN          NaN   \n",
       "88886     Payson, AZ  United States  341525N  1112021W          PAN   \n",
       "88887     Morgan, UT  United States      NaN       NaN          NaN   \n",
       "88888     Athens, GA  United States      NaN       NaN          NaN   \n",
       "\n",
       "      Airport.Name  ... Purpose.of.flight         Air.carrier  \\\n",
       "88884          NaN  ...          Personal                 NaN   \n",
       "88885          NaN  ...               NaN                 NaN   \n",
       "88886       PAYSON  ...          Personal                 NaN   \n",
       "88887          NaN  ...          Personal  MC CESSNA 210N LLC   \n",
       "88888          NaN  ...          Personal                 NaN   \n",
       "\n",
       "      Total.Fatal.Injuries Total.Serious.Injuries Total.Minor.Injuries  \\\n",
       "88884                  0.0                    1.0                  0.0   \n",
       "88885                  0.0                    0.0                  0.0   \n",
       "88886                  0.0                    0.0                  0.0   \n",
       "88887                  0.0                    0.0                  0.0   \n",
       "88888                  0.0                    1.0                  0.0   \n",
       "\n",
       "      Total.Uninjured Weather.Condition  Broad.phase.of.flight Report.Status  \\\n",
       "88884             0.0               NaN                    NaN           NaN   \n",
       "88885             0.0               NaN                    NaN           NaN   \n",
       "88886             1.0               VMC                    NaN           NaN   \n",
       "88887             0.0               NaN                    NaN           NaN   \n",
       "88888             1.0               NaN                    NaN           NaN   \n",
       "\n",
       "      Publication.Date  \n",
       "88884       29-12-2022  \n",
       "88885              NaN  \n",
       "88886       27-12-2022  \n",
       "88887              NaN  \n",
       "88888       30-12-2022  \n",
       "\n",
       "[5 rows x 31 columns]"
      ]
     },
     "execution_count": 70,
     "metadata": {},
     "output_type": "execute_result"
    }
   ],
   "source": [
    "# This function returns last 5 rows from the object based on position. It is useful for quickly verifying data, for example, after sorting or appending rows.\n",
    "#\n",
    "df.tail()"
   ]
  },
  {
   "cell_type": "markdown",
   "metadata": {},
   "source": [
    "Information about the data set:\n",
    "- The tail shows that there are 31 columns.\n",
    "- The dataset has a mix of data types"
   ]
  },
  {
   "cell_type": "code",
   "execution_count": 71,
   "metadata": {},
   "outputs": [
    {
     "data": {
      "text/html": [
       "<div>\n",
       "<style scoped>\n",
       "    .dataframe tbody tr th:only-of-type {\n",
       "        vertical-align: middle;\n",
       "    }\n",
       "\n",
       "    .dataframe tbody tr th {\n",
       "        vertical-align: top;\n",
       "    }\n",
       "\n",
       "    .dataframe thead th {\n",
       "        text-align: right;\n",
       "    }\n",
       "</style>\n",
       "<table border=\"1\" class=\"dataframe\">\n",
       "  <thead>\n",
       "    <tr style=\"text-align: right;\">\n",
       "      <th></th>\n",
       "      <th>US_State</th>\n",
       "      <th>Abbreviation</th>\n",
       "    </tr>\n",
       "  </thead>\n",
       "  <tbody>\n",
       "    <tr>\n",
       "      <th>57</th>\n",
       "      <td>Virgin Islands</td>\n",
       "      <td>VI</td>\n",
       "    </tr>\n",
       "    <tr>\n",
       "      <th>58</th>\n",
       "      <td>Washington_DC</td>\n",
       "      <td>DC</td>\n",
       "    </tr>\n",
       "    <tr>\n",
       "      <th>59</th>\n",
       "      <td>Gulf of mexico</td>\n",
       "      <td>GM</td>\n",
       "    </tr>\n",
       "    <tr>\n",
       "      <th>60</th>\n",
       "      <td>Atlantic ocean</td>\n",
       "      <td>AO</td>\n",
       "    </tr>\n",
       "    <tr>\n",
       "      <th>61</th>\n",
       "      <td>Pacific ocean</td>\n",
       "      <td>PO</td>\n",
       "    </tr>\n",
       "  </tbody>\n",
       "</table>\n",
       "</div>"
      ],
      "text/plain": [
       "          US_State Abbreviation\n",
       "57  Virgin Islands           VI\n",
       "58   Washington_DC           DC\n",
       "59  Gulf of mexico           GM\n",
       "60  Atlantic ocean           AO\n",
       "61   Pacific ocean           PO"
      ]
     },
     "execution_count": 71,
     "metadata": {},
     "output_type": "execute_result"
    }
   ],
   "source": [
    "# This function returns last 5 rows from the object based on position. It is useful for quickly verifying data.\n",
    "#\n",
    "df1.tail()"
   ]
  },
  {
   "cell_type": "markdown",
   "metadata": {},
   "source": [
    "Information about the dataset\n",
    "- The dataset contains US states and their abbreviations.\n",
    "- The abbreaviations of the states are all in upper case while the states have a mix of cases."
   ]
  },
  {
   "cell_type": "code",
   "execution_count": 72,
   "metadata": {},
   "outputs": [
    {
     "data": {
      "text/plain": [
       "((88889, 31), 88889)"
      ]
     },
     "execution_count": 72,
     "metadata": {},
     "output_type": "execute_result"
    }
   ],
   "source": [
    "# checking the shape and number of variables using df.shape or len(df)\n",
    "#\n",
    "df.shape, len(df)"
   ]
  },
  {
   "cell_type": "markdown",
   "metadata": {},
   "source": [
    "Information of df dataset:\n",
    "- Our dataset has 88,889 rows and 39 columns."
   ]
  },
  {
   "cell_type": "code",
   "execution_count": 73,
   "metadata": {},
   "outputs": [
    {
     "data": {
      "text/plain": [
       "((62, 2), 62)"
      ]
     },
     "execution_count": 73,
     "metadata": {},
     "output_type": "execute_result"
    }
   ],
   "source": [
    "# checking shape and the number of records using .shape or len()\n",
    "#\n",
    "df1.shape,len(df1)"
   ]
  },
  {
   "cell_type": "markdown",
   "metadata": {},
   "source": [
    "Information of df1 dataset:\n",
    "- Our dataset has 62 rows and 2 columns."
   ]
  },
  {
   "cell_type": "markdown",
   "metadata": {},
   "source": [
    "### 2.2.2 Dropping columns I may not need for my analysis"
   ]
  },
  {
   "cell_type": "markdown",
   "metadata": {},
   "source": [
    "Drop columns with null values of above 50% of the records. High level of null values may complicate my analysis and the results obtained thereafter."
   ]
  },
  {
   "cell_type": "code",
   "execution_count": 74,
   "metadata": {},
   "outputs": [
    {
     "name": "stdout",
     "output_type": "stream",
     "text": [
      "<class 'pandas.core.frame.DataFrame'>\n",
      "RangeIndex: 88889 entries, 0 to 88888\n",
      "Data columns (total 22 columns):\n",
      " #   Column                  Non-Null Count  Dtype  \n",
      "---  ------                  --------------  -----  \n",
      " 0   Event.Id                88889 non-null  object \n",
      " 1   Investigation.Type      88889 non-null  object \n",
      " 2   Accident.Number         88889 non-null  object \n",
      " 3   Event.Date              88889 non-null  object \n",
      " 4   Location                88837 non-null  object \n",
      " 5   Country                 88663 non-null  object \n",
      " 6   Injury.Severity         87889 non-null  object \n",
      " 7   Aircraft.damage         85695 non-null  object \n",
      " 8   Registration.Number     87572 non-null  object \n",
      " 9   Make                    88826 non-null  object \n",
      " 10  Model                   88797 non-null  object \n",
      " 11  Amateur.Built           88787 non-null  object \n",
      " 12  Number.of.Engines       82805 non-null  float64\n",
      " 13  Engine.Type             81812 non-null  object \n",
      " 14  Purpose.of.flight       82697 non-null  object \n",
      " 15  Total.Fatal.Injuries    77488 non-null  float64\n",
      " 16  Total.Serious.Injuries  76379 non-null  float64\n",
      " 17  Total.Minor.Injuries    76956 non-null  float64\n",
      " 18  Total.Uninjured         82977 non-null  float64\n",
      " 19  Weather.Condition       84397 non-null  object \n",
      " 20  Report.Status           82508 non-null  object \n",
      " 21  Publication.Date        75118 non-null  object \n",
      "dtypes: float64(5), object(17)\n",
      "memory usage: 14.9+ MB\n",
      "None\n"
     ]
    }
   ],
   "source": [
    "# establishing columns that may not be relevant to the analysis\n",
    "#\n",
    "to_drop=df.isna().sum()>0.30*len(df) # establishing the number of nulls in each column and if the nulls exceeds 30% of the rows present in the column\n",
    "\n",
    "columns_to_drop=to_drop[to_drop.values].index #columns to drop\n",
    " \n",
    "for col in columns_to_drop:\n",
    "    df.drop(columns=col,inplace=True) # removing the columns with nulls exceeding 30% of the total rows in the specified column\n",
    "print(df.info()) # summary of cleaned dataframe\n",
    " "
   ]
  },
  {
   "cell_type": "markdown",
   "metadata": {},
   "source": [
    "Summary of the cleaned data frame:\n",
    "- After removing columns not required, I remained with a total of 22 columns"
   ]
  },
  {
   "cell_type": "markdown",
   "metadata": {},
   "source": [
    "## 2.2.3 Adding columns"
   ]
  },
  {
   "cell_type": "markdown",
   "metadata": {},
   "source": [
    "Adding columns to help combine location and  state to help in identifying geographical locations."
   ]
  },
  {
   "cell_type": "code",
   "execution_count": 75,
   "metadata": {},
   "outputs": [
    {
     "data": {
      "text/html": [
       "<div>\n",
       "<style scoped>\n",
       "    .dataframe tbody tr th:only-of-type {\n",
       "        vertical-align: middle;\n",
       "    }\n",
       "\n",
       "    .dataframe tbody tr th {\n",
       "        vertical-align: top;\n",
       "    }\n",
       "\n",
       "    .dataframe thead th {\n",
       "        text-align: right;\n",
       "    }\n",
       "</style>\n",
       "<table border=\"1\" class=\"dataframe\">\n",
       "  <thead>\n",
       "    <tr style=\"text-align: right;\">\n",
       "      <th></th>\n",
       "      <th>US_State</th>\n",
       "      <th>Abbreviation</th>\n",
       "    </tr>\n",
       "  </thead>\n",
       "  <tbody>\n",
       "    <tr>\n",
       "      <th>0</th>\n",
       "      <td>Alabama</td>\n",
       "      <td>AL</td>\n",
       "    </tr>\n",
       "    <tr>\n",
       "      <th>1</th>\n",
       "      <td>Alaska</td>\n",
       "      <td>AK</td>\n",
       "    </tr>\n",
       "    <tr>\n",
       "      <th>2</th>\n",
       "      <td>Arizona</td>\n",
       "      <td>AZ</td>\n",
       "    </tr>\n",
       "    <tr>\n",
       "      <th>3</th>\n",
       "      <td>Arkansas</td>\n",
       "      <td>AR</td>\n",
       "    </tr>\n",
       "    <tr>\n",
       "      <th>4</th>\n",
       "      <td>California</td>\n",
       "      <td>CA</td>\n",
       "    </tr>\n",
       "  </tbody>\n",
       "</table>\n",
       "</div>"
      ],
      "text/plain": [
       "     US_State Abbreviation\n",
       "0     Alabama           AL\n",
       "1      Alaska           AK\n",
       "2     Arizona           AZ\n",
       "3    Arkansas           AR\n",
       "4  California           CA"
      ]
     },
     "execution_count": 75,
     "metadata": {},
     "output_type": "execute_result"
    }
   ],
   "source": [
    "# Display the first five rows in the data set\n",
    "#\n",
    "df1.head()"
   ]
  },
  {
   "cell_type": "markdown",
   "metadata": {},
   "source": [
    "Extracting Abbreviation and location from Location to use when merging df and df1 dataframes\n"
   ]
  },
  {
   "cell_type": "code",
   "execution_count": 76,
   "metadata": {},
   "outputs": [
    {
     "data": {
      "text/html": [
       "<div>\n",
       "<style scoped>\n",
       "    .dataframe tbody tr th:only-of-type {\n",
       "        vertical-align: middle;\n",
       "    }\n",
       "\n",
       "    .dataframe tbody tr th {\n",
       "        vertical-align: top;\n",
       "    }\n",
       "\n",
       "    .dataframe thead th {\n",
       "        text-align: right;\n",
       "    }\n",
       "</style>\n",
       "<table border=\"1\" class=\"dataframe\">\n",
       "  <thead>\n",
       "    <tr style=\"text-align: right;\">\n",
       "      <th></th>\n",
       "      <th>Event.Id</th>\n",
       "      <th>Investigation.Type</th>\n",
       "      <th>Accident.Number</th>\n",
       "      <th>Event.Date</th>\n",
       "      <th>Location</th>\n",
       "      <th>Country</th>\n",
       "      <th>Injury.Severity</th>\n",
       "      <th>Aircraft.damage</th>\n",
       "      <th>Registration.Number</th>\n",
       "      <th>Make</th>\n",
       "      <th>...</th>\n",
       "      <th>Purpose.of.flight</th>\n",
       "      <th>Total.Fatal.Injuries</th>\n",
       "      <th>Total.Serious.Injuries</th>\n",
       "      <th>Total.Minor.Injuries</th>\n",
       "      <th>Total.Uninjured</th>\n",
       "      <th>Weather.Condition</th>\n",
       "      <th>Report.Status</th>\n",
       "      <th>Publication.Date</th>\n",
       "      <th>Town</th>\n",
       "      <th>Abbreviation</th>\n",
       "    </tr>\n",
       "  </thead>\n",
       "  <tbody>\n",
       "    <tr>\n",
       "      <th>0</th>\n",
       "      <td>20001218X45444</td>\n",
       "      <td>Accident</td>\n",
       "      <td>SEA87LA080</td>\n",
       "      <td>1948-10-24</td>\n",
       "      <td>MOOSE CREEK, ID</td>\n",
       "      <td>United States</td>\n",
       "      <td>Fatal(2)</td>\n",
       "      <td>Destroyed</td>\n",
       "      <td>NC6404</td>\n",
       "      <td>Stinson</td>\n",
       "      <td>...</td>\n",
       "      <td>Personal</td>\n",
       "      <td>2.0</td>\n",
       "      <td>0.0</td>\n",
       "      <td>0.0</td>\n",
       "      <td>0.0</td>\n",
       "      <td>UNK</td>\n",
       "      <td>Probable Cause</td>\n",
       "      <td>NaN</td>\n",
       "      <td>MOOSE CREEK</td>\n",
       "      <td>ID</td>\n",
       "    </tr>\n",
       "    <tr>\n",
       "      <th>1</th>\n",
       "      <td>20001218X45447</td>\n",
       "      <td>Accident</td>\n",
       "      <td>LAX94LA336</td>\n",
       "      <td>1962-07-19</td>\n",
       "      <td>BRIDGEPORT, CA</td>\n",
       "      <td>United States</td>\n",
       "      <td>Fatal(4)</td>\n",
       "      <td>Destroyed</td>\n",
       "      <td>N5069P</td>\n",
       "      <td>Piper</td>\n",
       "      <td>...</td>\n",
       "      <td>Personal</td>\n",
       "      <td>4.0</td>\n",
       "      <td>0.0</td>\n",
       "      <td>0.0</td>\n",
       "      <td>0.0</td>\n",
       "      <td>UNK</td>\n",
       "      <td>Probable Cause</td>\n",
       "      <td>19-09-1996</td>\n",
       "      <td>BRIDGEPORT</td>\n",
       "      <td>CA</td>\n",
       "    </tr>\n",
       "    <tr>\n",
       "      <th>2</th>\n",
       "      <td>20061025X01555</td>\n",
       "      <td>Accident</td>\n",
       "      <td>NYC07LA005</td>\n",
       "      <td>1974-08-30</td>\n",
       "      <td>Saltville, VA</td>\n",
       "      <td>United States</td>\n",
       "      <td>Fatal(3)</td>\n",
       "      <td>Destroyed</td>\n",
       "      <td>N5142R</td>\n",
       "      <td>Cessna</td>\n",
       "      <td>...</td>\n",
       "      <td>Personal</td>\n",
       "      <td>3.0</td>\n",
       "      <td>NaN</td>\n",
       "      <td>NaN</td>\n",
       "      <td>NaN</td>\n",
       "      <td>IMC</td>\n",
       "      <td>Probable Cause</td>\n",
       "      <td>26-02-2007</td>\n",
       "      <td>Saltville</td>\n",
       "      <td>VA</td>\n",
       "    </tr>\n",
       "    <tr>\n",
       "      <th>3</th>\n",
       "      <td>20001218X45448</td>\n",
       "      <td>Accident</td>\n",
       "      <td>LAX96LA321</td>\n",
       "      <td>1977-06-19</td>\n",
       "      <td>EUREKA, CA</td>\n",
       "      <td>United States</td>\n",
       "      <td>Fatal(2)</td>\n",
       "      <td>Destroyed</td>\n",
       "      <td>N1168J</td>\n",
       "      <td>Rockwell</td>\n",
       "      <td>...</td>\n",
       "      <td>Personal</td>\n",
       "      <td>2.0</td>\n",
       "      <td>0.0</td>\n",
       "      <td>0.0</td>\n",
       "      <td>0.0</td>\n",
       "      <td>IMC</td>\n",
       "      <td>Probable Cause</td>\n",
       "      <td>12-09-2000</td>\n",
       "      <td>EUREKA</td>\n",
       "      <td>CA</td>\n",
       "    </tr>\n",
       "    <tr>\n",
       "      <th>4</th>\n",
       "      <td>20041105X01764</td>\n",
       "      <td>Accident</td>\n",
       "      <td>CHI79FA064</td>\n",
       "      <td>1979-08-02</td>\n",
       "      <td>Canton, OH</td>\n",
       "      <td>United States</td>\n",
       "      <td>Fatal(1)</td>\n",
       "      <td>Destroyed</td>\n",
       "      <td>N15NY</td>\n",
       "      <td>Cessna</td>\n",
       "      <td>...</td>\n",
       "      <td>Personal</td>\n",
       "      <td>1.0</td>\n",
       "      <td>2.0</td>\n",
       "      <td>NaN</td>\n",
       "      <td>0.0</td>\n",
       "      <td>VMC</td>\n",
       "      <td>Probable Cause</td>\n",
       "      <td>16-04-1980</td>\n",
       "      <td>Canton</td>\n",
       "      <td>OH</td>\n",
       "    </tr>\n",
       "  </tbody>\n",
       "</table>\n",
       "<p>5 rows × 24 columns</p>\n",
       "</div>"
      ],
      "text/plain": [
       "         Event.Id Investigation.Type Accident.Number  Event.Date  \\\n",
       "0  20001218X45444           Accident      SEA87LA080  1948-10-24   \n",
       "1  20001218X45447           Accident      LAX94LA336  1962-07-19   \n",
       "2  20061025X01555           Accident      NYC07LA005  1974-08-30   \n",
       "3  20001218X45448           Accident      LAX96LA321  1977-06-19   \n",
       "4  20041105X01764           Accident      CHI79FA064  1979-08-02   \n",
       "\n",
       "          Location        Country Injury.Severity Aircraft.damage  \\\n",
       "0  MOOSE CREEK, ID  United States        Fatal(2)       Destroyed   \n",
       "1   BRIDGEPORT, CA  United States        Fatal(4)       Destroyed   \n",
       "2    Saltville, VA  United States        Fatal(3)       Destroyed   \n",
       "3       EUREKA, CA  United States        Fatal(2)       Destroyed   \n",
       "4       Canton, OH  United States        Fatal(1)       Destroyed   \n",
       "\n",
       "  Registration.Number      Make  ... Purpose.of.flight Total.Fatal.Injuries  \\\n",
       "0              NC6404   Stinson  ...          Personal                  2.0   \n",
       "1              N5069P     Piper  ...          Personal                  4.0   \n",
       "2              N5142R    Cessna  ...          Personal                  3.0   \n",
       "3              N1168J  Rockwell  ...          Personal                  2.0   \n",
       "4               N15NY    Cessna  ...          Personal                  1.0   \n",
       "\n",
       "   Total.Serious.Injuries Total.Minor.Injuries Total.Uninjured  \\\n",
       "0                     0.0                  0.0             0.0   \n",
       "1                     0.0                  0.0             0.0   \n",
       "2                     NaN                  NaN             NaN   \n",
       "3                     0.0                  0.0             0.0   \n",
       "4                     2.0                  NaN             0.0   \n",
       "\n",
       "   Weather.Condition   Report.Status  Publication.Date         Town  \\\n",
       "0                UNK  Probable Cause               NaN  MOOSE CREEK   \n",
       "1                UNK  Probable Cause        19-09-1996   BRIDGEPORT   \n",
       "2                IMC  Probable Cause        26-02-2007    Saltville   \n",
       "3                IMC  Probable Cause        12-09-2000       EUREKA   \n",
       "4                VMC  Probable Cause        16-04-1980       Canton   \n",
       "\n",
       "  Abbreviation  \n",
       "0           ID  \n",
       "1           CA  \n",
       "2           VA  \n",
       "3           CA  \n",
       "4           OH  \n",
       "\n",
       "[5 rows x 24 columns]"
      ]
     },
     "execution_count": 76,
     "metadata": {},
     "output_type": "execute_result"
    }
   ],
   "source": [
    "# split the 'LOCATION' column to extract the town and the state abbreviation\n",
    "#\n",
    "df[['Town','Abbreviation']]=df['Location'].str.split(\", \", n=1, expand=True)\n",
    "\n",
    "# Display the first five rows in the data set\n",
    "df.head()"
   ]
  },
  {
   "cell_type": "markdown",
   "metadata": {},
   "source": [
    "Achieve extraction of the two columns named 'Town' and 'Abbreviation' from 'Location' column."
   ]
  },
  {
   "cell_type": "code",
   "execution_count": 77,
   "metadata": {},
   "outputs": [
    {
     "data": {
      "text/html": [
       "<div>\n",
       "<style scoped>\n",
       "    .dataframe tbody tr th:only-of-type {\n",
       "        vertical-align: middle;\n",
       "    }\n",
       "\n",
       "    .dataframe tbody tr th {\n",
       "        vertical-align: top;\n",
       "    }\n",
       "\n",
       "    .dataframe thead th {\n",
       "        text-align: right;\n",
       "    }\n",
       "</style>\n",
       "<table border=\"1\" class=\"dataframe\">\n",
       "  <thead>\n",
       "    <tr style=\"text-align: right;\">\n",
       "      <th></th>\n",
       "      <th>Event.Id</th>\n",
       "      <th>Investigation.Type</th>\n",
       "      <th>Accident.Number</th>\n",
       "      <th>Event.Date</th>\n",
       "      <th>Location</th>\n",
       "      <th>Country</th>\n",
       "      <th>Injury.Severity</th>\n",
       "      <th>Aircraft.damage</th>\n",
       "      <th>Registration.Number</th>\n",
       "      <th>Make</th>\n",
       "      <th>...</th>\n",
       "      <th>Total.Fatal.Injuries</th>\n",
       "      <th>Total.Serious.Injuries</th>\n",
       "      <th>Total.Minor.Injuries</th>\n",
       "      <th>Total.Uninjured</th>\n",
       "      <th>Weather.Condition</th>\n",
       "      <th>Report.Status</th>\n",
       "      <th>Publication.Date</th>\n",
       "      <th>Town</th>\n",
       "      <th>Abbreviation</th>\n",
       "      <th>US_State</th>\n",
       "    </tr>\n",
       "  </thead>\n",
       "  <tbody>\n",
       "    <tr>\n",
       "      <th>0</th>\n",
       "      <td>20001218X45444</td>\n",
       "      <td>Accident</td>\n",
       "      <td>SEA87LA080</td>\n",
       "      <td>1948-10-24</td>\n",
       "      <td>MOOSE CREEK, ID</td>\n",
       "      <td>United States</td>\n",
       "      <td>Fatal(2)</td>\n",
       "      <td>Destroyed</td>\n",
       "      <td>NC6404</td>\n",
       "      <td>Stinson</td>\n",
       "      <td>...</td>\n",
       "      <td>2.0</td>\n",
       "      <td>0.0</td>\n",
       "      <td>0.0</td>\n",
       "      <td>0.0</td>\n",
       "      <td>UNK</td>\n",
       "      <td>Probable Cause</td>\n",
       "      <td>NaN</td>\n",
       "      <td>MOOSE CREEK</td>\n",
       "      <td>ID</td>\n",
       "      <td>Idaho</td>\n",
       "    </tr>\n",
       "    <tr>\n",
       "      <th>1</th>\n",
       "      <td>20001218X45447</td>\n",
       "      <td>Accident</td>\n",
       "      <td>LAX94LA336</td>\n",
       "      <td>1962-07-19</td>\n",
       "      <td>BRIDGEPORT, CA</td>\n",
       "      <td>United States</td>\n",
       "      <td>Fatal(4)</td>\n",
       "      <td>Destroyed</td>\n",
       "      <td>N5069P</td>\n",
       "      <td>Piper</td>\n",
       "      <td>...</td>\n",
       "      <td>4.0</td>\n",
       "      <td>0.0</td>\n",
       "      <td>0.0</td>\n",
       "      <td>0.0</td>\n",
       "      <td>UNK</td>\n",
       "      <td>Probable Cause</td>\n",
       "      <td>19-09-1996</td>\n",
       "      <td>BRIDGEPORT</td>\n",
       "      <td>CA</td>\n",
       "      <td>California</td>\n",
       "    </tr>\n",
       "    <tr>\n",
       "      <th>2</th>\n",
       "      <td>20061025X01555</td>\n",
       "      <td>Accident</td>\n",
       "      <td>NYC07LA005</td>\n",
       "      <td>1974-08-30</td>\n",
       "      <td>Saltville, VA</td>\n",
       "      <td>United States</td>\n",
       "      <td>Fatal(3)</td>\n",
       "      <td>Destroyed</td>\n",
       "      <td>N5142R</td>\n",
       "      <td>Cessna</td>\n",
       "      <td>...</td>\n",
       "      <td>3.0</td>\n",
       "      <td>NaN</td>\n",
       "      <td>NaN</td>\n",
       "      <td>NaN</td>\n",
       "      <td>IMC</td>\n",
       "      <td>Probable Cause</td>\n",
       "      <td>26-02-2007</td>\n",
       "      <td>Saltville</td>\n",
       "      <td>VA</td>\n",
       "      <td>Virginia</td>\n",
       "    </tr>\n",
       "    <tr>\n",
       "      <th>3</th>\n",
       "      <td>20001218X45448</td>\n",
       "      <td>Accident</td>\n",
       "      <td>LAX96LA321</td>\n",
       "      <td>1977-06-19</td>\n",
       "      <td>EUREKA, CA</td>\n",
       "      <td>United States</td>\n",
       "      <td>Fatal(2)</td>\n",
       "      <td>Destroyed</td>\n",
       "      <td>N1168J</td>\n",
       "      <td>Rockwell</td>\n",
       "      <td>...</td>\n",
       "      <td>2.0</td>\n",
       "      <td>0.0</td>\n",
       "      <td>0.0</td>\n",
       "      <td>0.0</td>\n",
       "      <td>IMC</td>\n",
       "      <td>Probable Cause</td>\n",
       "      <td>12-09-2000</td>\n",
       "      <td>EUREKA</td>\n",
       "      <td>CA</td>\n",
       "      <td>California</td>\n",
       "    </tr>\n",
       "    <tr>\n",
       "      <th>4</th>\n",
       "      <td>20041105X01764</td>\n",
       "      <td>Accident</td>\n",
       "      <td>CHI79FA064</td>\n",
       "      <td>1979-08-02</td>\n",
       "      <td>Canton, OH</td>\n",
       "      <td>United States</td>\n",
       "      <td>Fatal(1)</td>\n",
       "      <td>Destroyed</td>\n",
       "      <td>N15NY</td>\n",
       "      <td>Cessna</td>\n",
       "      <td>...</td>\n",
       "      <td>1.0</td>\n",
       "      <td>2.0</td>\n",
       "      <td>NaN</td>\n",
       "      <td>0.0</td>\n",
       "      <td>VMC</td>\n",
       "      <td>Probable Cause</td>\n",
       "      <td>16-04-1980</td>\n",
       "      <td>Canton</td>\n",
       "      <td>OH</td>\n",
       "      <td>Ohio</td>\n",
       "    </tr>\n",
       "  </tbody>\n",
       "</table>\n",
       "<p>5 rows × 25 columns</p>\n",
       "</div>"
      ],
      "text/plain": [
       "         Event.Id Investigation.Type Accident.Number  Event.Date  \\\n",
       "0  20001218X45444           Accident      SEA87LA080  1948-10-24   \n",
       "1  20001218X45447           Accident      LAX94LA336  1962-07-19   \n",
       "2  20061025X01555           Accident      NYC07LA005  1974-08-30   \n",
       "3  20001218X45448           Accident      LAX96LA321  1977-06-19   \n",
       "4  20041105X01764           Accident      CHI79FA064  1979-08-02   \n",
       "\n",
       "          Location        Country Injury.Severity Aircraft.damage  \\\n",
       "0  MOOSE CREEK, ID  United States        Fatal(2)       Destroyed   \n",
       "1   BRIDGEPORT, CA  United States        Fatal(4)       Destroyed   \n",
       "2    Saltville, VA  United States        Fatal(3)       Destroyed   \n",
       "3       EUREKA, CA  United States        Fatal(2)       Destroyed   \n",
       "4       Canton, OH  United States        Fatal(1)       Destroyed   \n",
       "\n",
       "  Registration.Number      Make  ... Total.Fatal.Injuries  \\\n",
       "0              NC6404   Stinson  ...                  2.0   \n",
       "1              N5069P     Piper  ...                  4.0   \n",
       "2              N5142R    Cessna  ...                  3.0   \n",
       "3              N1168J  Rockwell  ...                  2.0   \n",
       "4               N15NY    Cessna  ...                  1.0   \n",
       "\n",
       "  Total.Serious.Injuries  Total.Minor.Injuries Total.Uninjured  \\\n",
       "0                    0.0                   0.0             0.0   \n",
       "1                    0.0                   0.0             0.0   \n",
       "2                    NaN                   NaN             NaN   \n",
       "3                    0.0                   0.0             0.0   \n",
       "4                    2.0                   NaN             0.0   \n",
       "\n",
       "  Weather.Condition   Report.Status  Publication.Date         Town  \\\n",
       "0               UNK  Probable Cause               NaN  MOOSE CREEK   \n",
       "1               UNK  Probable Cause        19-09-1996   BRIDGEPORT   \n",
       "2               IMC  Probable Cause        26-02-2007    Saltville   \n",
       "3               IMC  Probable Cause        12-09-2000       EUREKA   \n",
       "4               VMC  Probable Cause        16-04-1980       Canton   \n",
       "\n",
       "   Abbreviation    US_State  \n",
       "0            ID       Idaho  \n",
       "1            CA  California  \n",
       "2            VA    Virginia  \n",
       "3            CA  California  \n",
       "4            OH        Ohio  \n",
       "\n",
       "[5 rows x 25 columns]"
      ]
     },
     "execution_count": 77,
     "metadata": {},
     "output_type": "execute_result"
    }
   ],
   "source": [
    "# merge df data on accidents and df1 on states and their abbreviations\n",
    "#\n",
    "df_merged = pd.merge(df, df1, on='Abbreviation', how='left') \n",
    "\n",
    "# check the first five rows to confirm if df and df1 have merged successfully.\n",
    "df_merged.head() "
   ]
  },
  {
   "cell_type": "markdown",
   "metadata": {},
   "source": [
    "After merging df and df1, I have df_merged dataframe which has 'US_STATE' column"
   ]
  },
  {
   "cell_type": "markdown",
   "metadata": {},
   "source": [
    "## 2.3 Data Preparation"
   ]
  },
  {
   "cell_type": "markdown",
   "metadata": {},
   "source": [
    "Data cleaning is to help achieve meaningful and accurate data."
   ]
  },
  {
   "cell_type": "markdown",
   "metadata": {},
   "source": [
    "### 2.3.1 Checking for consistency and validity"
   ]
  },
  {
   "cell_type": "markdown",
   "metadata": {},
   "source": [
    "### 2.3.1.1 Check for duplicates"
   ]
  },
  {
   "cell_type": "code",
   "execution_count": 78,
   "metadata": {},
   "outputs": [
    {
     "data": {
      "text/plain": [
       "False"
      ]
     },
     "execution_count": 78,
     "metadata": {},
     "output_type": "execute_result"
    }
   ],
   "source": [
    "#checking for duplicates\n",
    "#\n",
    "df_merged.duplicated().any()"
   ]
  },
  {
   "cell_type": "markdown",
   "metadata": {},
   "source": [
    "### 2.3.1.2 Check for null values"
   ]
  },
  {
   "cell_type": "markdown",
   "metadata": {},
   "source": [
    "We need to check for null values to ensures the data is complete."
   ]
  },
  {
   "cell_type": "code",
   "execution_count": 79,
   "metadata": {},
   "outputs": [
    {
     "data": {
      "text/plain": [
       "Event.Id                      0\n",
       "Investigation.Type            0\n",
       "Accident.Number               0\n",
       "Event.Date                    0\n",
       "Location                     52\n",
       "Country                     226\n",
       "Injury.Severity            1000\n",
       "Aircraft.damage            3194\n",
       "Registration.Number        1317\n",
       "Make                         63\n",
       "Model                        92\n",
       "Amateur.Built               102\n",
       "Number.of.Engines          6084\n",
       "Engine.Type                7077\n",
       "Purpose.of.flight          6192\n",
       "Total.Fatal.Injuries      11401\n",
       "Total.Serious.Injuries    12510\n",
       "Total.Minor.Injuries      11933\n",
       "Total.Uninjured            5912\n",
       "Weather.Condition          4492\n",
       "Report.Status              6381\n",
       "Publication.Date          13771\n",
       "Town                         52\n",
       "Abbreviation                622\n",
       "US_State                   6748\n",
       "dtype: int64"
      ]
     },
     "execution_count": 79,
     "metadata": {},
     "output_type": "execute_result"
    }
   ],
   "source": [
    "#checking missing values \n",
    "#\n",
    "df_merged.isnull().sum() # enumerate the sum of null values in each column"
   ]
  },
  {
   "cell_type": "markdown",
   "metadata": {},
   "source": [
    "### 2.3.1.3 Replacing null values"
   ]
  },
  {
   "cell_type": "markdown",
   "metadata": {},
   "source": [
    "#### Filling null values for numerical data"
   ]
  },
  {
   "cell_type": "code",
   "execution_count": 80,
   "metadata": {},
   "outputs": [
    {
     "name": "stdout",
     "output_type": "stream",
     "text": [
      "0\n"
     ]
    }
   ],
   "source": [
    "# calculated the mean to replace null values in Nunmber.of.engines column\n",
    "#\n",
    "mean_engine_number=df_merged['Number.of.Engines'].mean()\n",
    "\n",
    "# round off mean to zero decimal place\n",
    "mean_engine_number_rounded_off=round(mean_engine_number,0)\n",
    "\n",
    "#use of fillna to replace null values with mean\n",
    "df_merged['Number.of.Engines']=df_merged['Number.of.Engines'].fillna(mean_engine_number_rounded_off)\n",
    "\n",
    "# to check if there remaining nulls in the column\n",
    "print(df_merged['Number.of.Engines'].isnull().sum()) "
   ]
  },
  {
   "cell_type": "markdown",
   "metadata": {},
   "source": [
    "No aircraft operates without an engine hence had to replace those with nill with the mean of the NUMBER.OF.ENGINES column"
   ]
  },
  {
   "cell_type": "code",
   "execution_count": 81,
   "metadata": {},
   "outputs": [
    {
     "name": "stdout",
     "output_type": "stream",
     "text": [
      "count    88889.000000\n",
      "mean         1.136552\n",
      "std          0.432545\n",
      "min          0.000000\n",
      "25%          1.000000\n",
      "50%          1.000000\n",
      "75%          1.000000\n",
      "max          8.000000\n",
      "Name: Number.of.Engines, dtype: float64\n"
     ]
    }
   ],
   "source": [
    "# replace nill engine number with mean of Number.of.Engines column\n",
    "#\n",
    "df_merged['Number.of.Engines'] = df_merged['Number.of.Engines'].replace('0', mean_engine_number_rounded_off)\n",
    "\n",
    "# check the statistics of the column after the replacement\n",
    "print(df_merged['Number.of.Engines'].describe())"
   ]
  },
  {
   "cell_type": "markdown",
   "metadata": {},
   "source": [
    "Filing up null values of numerical columns of interest with its mean"
   ]
  },
  {
   "cell_type": "code",
   "execution_count": 82,
   "metadata": {},
   "outputs": [
    {
     "name": "stdout",
     "output_type": "stream",
     "text": [
      "0\n"
     ]
    }
   ],
   "source": [
    "# calculated the mean to replace null values in Total.Uninjured column\n",
    "#\n",
    "mean_total_uninjured=df_merged['Total.Uninjured'].mean()\n",
    "\n",
    "# round off mean to zero decimal place\n",
    "mean_total_uninjured_rounded_off=round(mean_total_uninjured,0)\n",
    "\n",
    "#use of fillna to replace null values with mean\n",
    "df_merged['Total.Uninjured']= df_merged['Total.Uninjured'].fillna((mean_total_uninjured_rounded_off))\n",
    "\n",
    "# to check if there remaining nulls in the column\n",
    "print(df_merged['Total.Uninjured'].isnull().sum()) \n"
   ]
  },
  {
   "cell_type": "code",
   "execution_count": 83,
   "metadata": {},
   "outputs": [
    {
     "name": "stdout",
     "output_type": "stream",
     "text": [
      "0\n"
     ]
    }
   ],
   "source": [
    "# calculated the mean to replace null values in 'Total.Fatal.Injuries' column\n",
    "#\n",
    "mean_total_fatal_injuries=df_merged['Total.Fatal.Injuries'].mean()\n",
    "\n",
    "# round off mean to zero decimal place\n",
    "mean_total_fatal_injuries_rounded_off=round(mean_total_fatal_injuries,0)\n",
    "\n",
    "#use of fillna to replace null values with mean\n",
    "df_merged['Total.Fatal.Injuries']= df_merged['Total.Fatal.Injuries'].fillna((mean_total_fatal_injuries_rounded_off))\n",
    "\n",
    "# to check if there remaining nulls in the column\n",
    "print(df_merged['Total.Fatal.Injuries'].isnull().sum()) \n"
   ]
  },
  {
   "cell_type": "code",
   "execution_count": 84,
   "metadata": {},
   "outputs": [
    {
     "name": "stdout",
     "output_type": "stream",
     "text": [
      "0\n"
     ]
    }
   ],
   "source": [
    "# calculated the mean to replace null values in 'Total.Serious.Injuries' column\n",
    "#\n",
    "mean_total_serious_injuries=df_merged['Total.Serious.Injuries'].mean()\n",
    "\n",
    "# round off mean to zero decimal place\n",
    "mean_total_serious_injuries_rounded_off=round(mean_total_serious_injuries,0)\n",
    "\n",
    "#use of fillna to replace null values with mean\n",
    "df_merged['Total.Serious.Injuries']= df_merged['Total.Serious.Injuries'].fillna((mean_total_serious_injuries_rounded_off))\n",
    "\n",
    "# to check if there remaining nulls in the column\n",
    "print(df_merged['Total.Serious.Injuries'].isnull().sum()) \n"
   ]
  },
  {
   "cell_type": "code",
   "execution_count": 85,
   "metadata": {},
   "outputs": [
    {
     "name": "stdout",
     "output_type": "stream",
     "text": [
      "0\n"
     ]
    }
   ],
   "source": [
    "# calculated the mean to replace null values in 'Total.Minor.Injuries' column\n",
    "#\n",
    "mean_total_minor_injuries=df_merged['Total.Minor.Injuries'].mean()\n",
    "\n",
    "# round off mean to zero decimal place\n",
    "mean_total_minor_injuries_rounded_off=round(mean_total_minor_injuries,0)\n",
    "\n",
    "#use of fillna to replace null values with mean\n",
    "df_merged['Total.Minor.Injuries']= df_merged['Total.Minor.Injuries'].fillna((mean_total_minor_injuries_rounded_off))\n",
    "\n",
    "# to check if there remaining nulls in the column\n",
    "print(df_merged['Total.Minor.Injuries'].isnull().sum()) \n"
   ]
  },
  {
   "cell_type": "markdown",
   "metadata": {},
   "source": [
    "#### 2.3.1.4 Filling null values for categorical data"
   ]
  },
  {
   "cell_type": "code",
   "execution_count": 86,
   "metadata": {},
   "outputs": [
    {
     "data": {
      "text/plain": [
       "'Reciprocating'"
      ]
     },
     "execution_count": 86,
     "metadata": {},
     "output_type": "execute_result"
    }
   ],
   "source": [
    "# establish the first mode for the engine type\n",
    "#\n",
    "mode_ENGINE_TYPE=df_merged['Engine.Type'].mode()[0]\n",
    "mode_ENGINE_TYPE"
   ]
  },
  {
   "cell_type": "code",
   "execution_count": 87,
   "metadata": {},
   "outputs": [
    {
     "name": "stdout",
     "output_type": "stream",
     "text": [
      "['Reciprocating' 'Turbo Fan' 'Turbo Shaft' 'Unknown' 'Turbo Prop'\n",
      " 'Turbo Jet' 'None' 'Electric' 'Hybrid Rocket' 'Geared Turbofan' 'LR'\n",
      " 'NONE' 'UNK']\n"
     ]
    }
   ],
   "source": [
    "# replace null values with mode of ENGINE.TYPE column\n",
    "#\n",
    "df_merged['Engine.Type'] = df_merged['Engine.Type'].fillna(mode_ENGINE_TYPE)\n",
    "\n",
    "# check if the replacing nulls has taken place and unique values in the column\n",
    "print(df_merged['Engine.Type'].unique())"
   ]
  },
  {
   "cell_type": "markdown",
   "metadata": {},
   "source": [
    "Replacing null values and non-unique values with the mode of Engine.type column"
   ]
  },
  {
   "cell_type": "code",
   "execution_count": 88,
   "metadata": {},
   "outputs": [
    {
     "name": "stdout",
     "output_type": "stream",
     "text": [
      "['Reciprocating' 'Turbo Fan' 'Turbo Shaft' 'Turbo Prop' 'Turbo Jet'\n",
      " 'Electric' 'Hybrid Rocket' 'Geared Turbofan' 'LR' 'UNK']\n"
     ]
    }
   ],
   "source": [
    "# replace 'Unknown' and 'None' with mode of ENGINE.TYPE column\n",
    "#\n",
    "df_merged['Engine.Type'] = df_merged['Engine.Type'].str.replace('Unknown', mode_ENGINE_TYPE)\n",
    "\n",
    "# replace 'None' with mode of ENGINE.TYPE column\n",
    "\n",
    "df_merged['Engine.Type'] = df_merged['Engine.Type'].str.replace('None', mode_ENGINE_TYPE)\n",
    "\n",
    "# replace 'NONE' with mode of ENGINE.TYPE column\n",
    "\n",
    "df_merged['Engine.Type'] = df_merged['Engine.Type'].str.replace('NONE', mode_ENGINE_TYPE)\n",
    "\n",
    "# check if the replacing nulls has taken place and unique values in the column\n",
    "print(df_merged['Engine.Type'].unique())\n"
   ]
  },
  {
   "cell_type": "code",
   "execution_count": 89,
   "metadata": {},
   "outputs": [
    {
     "name": "stdout",
     "output_type": "stream",
     "text": [
      "0\n"
     ]
    }
   ],
   "source": [
    "# to check if there remaining nulls in the column\n",
    "#\n",
    "print(df_merged['Engine.Type'].isnull().sum()) "
   ]
  },
  {
   "cell_type": "markdown",
   "metadata": {},
   "source": [
    "Replacing null values and non-unique values with the mode of Make column"
   ]
  },
  {
   "cell_type": "code",
   "execution_count": 90,
   "metadata": {},
   "outputs": [
    {
     "name": "stdout",
     "output_type": "stream",
     "text": [
      "0\n"
     ]
    }
   ],
   "source": [
    "# calculated the first mode of Make to replace null values in the column\n",
    "#\n",
    "mode_MAKE=df_merged['Make'].mode()[0]\n",
    "\n",
    "#use of fillna to replace null values with mode\n",
    "df_merged['Make']=df_merged['Make'].fillna(mode_MAKE)\n",
    "\n",
    "# check if the replacing nulls has taken place in the column\n",
    "print(df_merged['Make'].isnull().sum())\n"
   ]
  },
  {
   "cell_type": "markdown",
   "metadata": {},
   "source": [
    "Replacing null values and non-unique values with the mode of Model column"
   ]
  },
  {
   "cell_type": "code",
   "execution_count": 91,
   "metadata": {},
   "outputs": [
    {
     "name": "stdout",
     "output_type": "stream",
     "text": [
      "0\n"
     ]
    }
   ],
   "source": [
    "# calculated the first mode of Model to replace null values \n",
    "#\n",
    "mode_MODEL=df_merged['Model'].mode()[0]\n",
    "\n",
    "#use of fillna to replace null values with mode\n",
    "df_merged['Model']=df_merged['Model'].fillna(mode_MODEL)\n",
    "\n",
    "# check if the replacing nulls has taken place in the column\n",
    "print(df_merged['Model'].isnull().sum())"
   ]
  },
  {
   "cell_type": "markdown",
   "metadata": {},
   "source": [
    "Replacing null values and non-unique values with the mode of Amateur.Built column"
   ]
  },
  {
   "cell_type": "code",
   "execution_count": 92,
   "metadata": {},
   "outputs": [
    {
     "name": "stdout",
     "output_type": "stream",
     "text": [
      "0\n"
     ]
    }
   ],
   "source": [
    "# calculated the first mode of Amateur.Built to replace null values \n",
    "#\n",
    "mode_Amateur_Build=df_merged['Amateur.Built'].mode()[0]\n",
    "\n",
    "#use of fillna to replace null values with mode\n",
    "df_merged['Amateur.Built']=df_merged['Amateur.Built'].fillna(mode_Amateur_Build)\n",
    "\n",
    "# check if the replacing nulls has taken place in the column\n",
    "print(df_merged['Amateur.Built'].isnull().sum())"
   ]
  },
  {
   "cell_type": "markdown",
   "metadata": {},
   "source": [
    "Replacing null values and non-unique values with the mode of Purpose.of.Flight column"
   ]
  },
  {
   "cell_type": "code",
   "execution_count": 93,
   "metadata": {},
   "outputs": [
    {
     "name": "stdout",
     "output_type": "stream",
     "text": [
      "0\n"
     ]
    }
   ],
   "source": [
    "# calculated the first mode of Amateur.Built to replace null values \n",
    "#\n",
    "mode_purpose_of_flight=df_merged['Purpose.of.flight'].mode()[0]\n",
    "\n",
    "#use of fillna to replace null values with mode\n",
    "df_merged['Purpose.of.flight']=df_merged['Purpose.of.flight'].fillna(mode_purpose_of_flight)\n",
    "\n",
    "# replace 'Unknown' with mode of Purpose of flight column\n",
    "\n",
    "df_merged['Purpose.of.flight'] = df_merged['Purpose.of.flight'].str.replace('Unknown', mode_purpose_of_flight)\n",
    "\n",
    "# replace 'Null' with mode of Purpose of flight column\n",
    "\n",
    "df_merged['Purpose.of.flight'] = df_merged['Purpose.of.flight'].str.replace('Null', mode_purpose_of_flight)\n",
    "\n",
    "\n",
    "# check if the replacing nulls has taken place in the column\n",
    "print(df_merged['Purpose.of.flight'].isnull().sum())"
   ]
  },
  {
   "cell_type": "markdown",
   "metadata": {},
   "source": [
    "Replacing null values of the US_State column"
   ]
  },
  {
   "cell_type": "code",
   "execution_count": 94,
   "metadata": {},
   "outputs": [
    {
     "name": "stdout",
     "output_type": "stream",
     "text": [
      "0\n"
     ]
    }
   ],
   "source": [
    "#use of fillna to replace null values with mode\n",
    "#\n",
    "df_merged['US_State']=df_merged['US_State'].fillna('Uknown')\n",
    "\n",
    "# check if the replacing nulls has taken place in the column\n",
    "print(df_merged['US_State'].isnull().sum())"
   ]
  },
  {
   "cell_type": "markdown",
   "metadata": {},
   "source": [
    "### 2.3.2 Uniformity "
   ]
  },
  {
   "cell_type": "markdown",
   "metadata": {},
   "source": [
    "Making dataset by achieving one standard across helps prepare dataset for exploration."
   ]
  },
  {
   "cell_type": "markdown",
   "metadata": {},
   "source": [
    "### 2.3.2.1 Achieving one standard case"
   ]
  },
  {
   "cell_type": "code",
   "execution_count": 95,
   "metadata": {},
   "outputs": [
    {
     "name": "stdout",
     "output_type": "stream",
     "text": [
      "['STINSON' 'PIPER' 'CESSNA' ... 'JAMES R DERNOVSEK' 'ORLICAN S R O'\n",
      " 'ROYSE RALPH L']\n"
     ]
    }
   ],
   "source": [
    "# Change 'Make' be unique and of standard type using .upper()\n",
    "#\n",
    "df_merged['Make']=df_merged['Make'].str.upper()\n",
    "\n",
    "# check if the uniform upper case has been achieved\n",
    "print(df_merged['Make'].unique())"
   ]
  },
  {
   "cell_type": "code",
   "execution_count": 96,
   "metadata": {},
   "outputs": [
    {
     "name": "stdout",
     "output_type": "stream",
     "text": [
      "['108-3' 'PA24-180' '172M' ... 'MH-60R' 'KITFOX S5' 'M-8 EAGLE']\n"
     ]
    }
   ],
   "source": [
    "# Change 'Model' be unique and of standard type using .upper()\n",
    "#\n",
    "df_merged['Model'] = df_merged['Model'].str.upper()\n",
    "\n",
    "# check if the uniform upper case has been achieved\n",
    "print(df_merged['Model'].unique())\n"
   ]
  },
  {
   "cell_type": "code",
   "execution_count": 97,
   "metadata": {},
   "outputs": [
    {
     "name": "stdout",
     "output_type": "stream",
     "text": [
      "['MOOSE CREEK, ID' 'BRIDGEPORT, CA' 'SALTVILLE, VA' ... 'SAN MANUAL, AZ'\n",
      " 'AUBURN HILLS, MI' 'BRASNORTE, ']\n"
     ]
    }
   ],
   "source": [
    "# Change 'Location' be unique and of standard type using .upper()\n",
    "#\n",
    "df_merged['Location'] = df_merged['Location'].str.upper()\n",
    "\n",
    "# Check if the uniform upper case has been achieved\n",
    "print(df_merged['Location'].unique())"
   ]
  },
  {
   "cell_type": "code",
   "execution_count": 98,
   "metadata": {},
   "outputs": [
    {
     "name": "stdout",
     "output_type": "stream",
     "text": [
      "['PERSONAL' 'BUSINESS' 'INSTRUCTIONAL' 'FERRY' 'EXECUTIVE/CORPORATE'\n",
      " 'AERIAL OBSERVATION' 'AERIAL APPLICATION' 'PUBLIC AIRCRAFT' 'SKYDIVING'\n",
      " 'OTHER WORK USE' 'POSITIONING' 'FLIGHT TEST' 'AIR RACE/SHOW' 'AIR DROP'\n",
      " 'PUBLIC AIRCRAFT - FEDERAL' 'GLIDER TOW' 'PUBLIC AIRCRAFT - LOCAL'\n",
      " 'EXTERNAL LOAD' 'PUBLIC AIRCRAFT - STATE' 'BANNER TOW' 'FIREFIGHTING'\n",
      " 'AIR RACE SHOW' 'PUBS' 'ASHO' 'PUBL']\n"
     ]
    }
   ],
   "source": [
    "# Change 'Purpose of flight' be unique and of standard type using .upper()\n",
    "#\n",
    "df_merged['Purpose.of.flight'] = df_merged['Purpose.of.flight'].str.upper()\n",
    "\n",
    "# Check if the uniform upper case has been achieved\n",
    "print(df_merged['Purpose.of.flight'].unique())"
   ]
  },
  {
   "cell_type": "markdown",
   "metadata": {},
   "source": [
    "Standardising the dataframe columns"
   ]
  },
  {
   "cell_type": "markdown",
   "metadata": {},
   "source": [
    "Changing column names to upper case"
   ]
  },
  {
   "cell_type": "code",
   "execution_count": 99,
   "metadata": {},
   "outputs": [
    {
     "data": {
      "text/plain": [
       "Index(['Event.Id', 'Investigation.Type', 'Accident.Number', 'Event.Date',\n",
       "       'Location', 'Country', 'Injury.Severity', 'Aircraft.damage',\n",
       "       'Registration.Number', 'Make', 'Model', 'Amateur.Built',\n",
       "       'Number.of.Engines', 'Engine.Type', 'Purpose.of.flight',\n",
       "       'Total.Fatal.Injuries', 'Total.Serious.Injuries',\n",
       "       'Total.Minor.Injuries', 'Total.Uninjured', 'Weather.Condition',\n",
       "       'Report.Status', 'Publication.Date', 'Town', 'Abbreviation',\n",
       "       'US_State'],\n",
       "      dtype='object')"
      ]
     },
     "execution_count": 99,
     "metadata": {},
     "output_type": "execute_result"
    }
   ],
   "source": [
    "# Check column names\n",
    "\n",
    "df_merged.columns"
   ]
  },
  {
   "cell_type": "code",
   "execution_count": 100,
   "metadata": {},
   "outputs": [
    {
     "data": {
      "text/plain": [
       "Index(['EVENT.ID', 'INVESTIGATION.TYPE', 'ACCIDENT.NUMBER', 'EVENT.DATE',\n",
       "       'LOCATION', 'COUNTRY', 'INJURY.SEVERITY', 'AIRCRAFT.DAMAGE',\n",
       "       'REGISTRATION.NUMBER', 'MAKE', 'MODEL', 'AMATEUR.BUILT',\n",
       "       'NUMBER.OF.ENGINES', 'ENGINE.TYPE', 'PURPOSE.OF.FLIGHT',\n",
       "       'TOTAL.FATAL.INJURIES', 'TOTAL.SERIOUS.INJURIES',\n",
       "       'TOTAL.MINOR.INJURIES', 'TOTAL.UNINJURED', 'WEATHER.CONDITION',\n",
       "       'REPORT.STATUS', 'PUBLICATION.DATE', 'TOWN', 'ABBREVIATION',\n",
       "       'US_STATE'],\n",
       "      dtype='object')"
      ]
     },
     "execution_count": 100,
     "metadata": {},
     "output_type": "execute_result"
    }
   ],
   "source": [
    "# Fixing colunm name with upper cases\n",
    "\n",
    "df_merged.columns = map(lambda x: str(x).upper(), df_merged.columns) # changing column headers of df dataset to upper case\n",
    "\n",
    "# Check if the column names of df and df1 datasets have been converted to uppercase\n",
    "df_merged.columns\n"
   ]
  },
  {
   "cell_type": "markdown",
   "metadata": {},
   "source": [
    "Standardising case type in the values in the columns of interest"
   ]
  },
  {
   "cell_type": "code",
   "execution_count": 101,
   "metadata": {},
   "outputs": [
    {
     "data": {
      "text/plain": [
       "88884    RECIPROCATING\n",
       "88885    RECIPROCATING\n",
       "88886    RECIPROCATING\n",
       "88887    RECIPROCATING\n",
       "88888    RECIPROCATING\n",
       "Name: ENGINE.TYPE, dtype: object"
      ]
     },
     "execution_count": 101,
     "metadata": {},
     "output_type": "execute_result"
    }
   ],
   "source": [
    "# Capitalising all values in the Engine.Type column for uniformity\n",
    "df_merged['ENGINE.TYPE'] = df_merged['ENGINE.TYPE'].str.upper()\n",
    "\n",
    "# Display the last five rows in the column\n",
    "df_merged['ENGINE.TYPE']. tail()"
   ]
  },
  {
   "cell_type": "markdown",
   "metadata": {},
   "source": [
    "### 2.3.2.2 Removing white spaces"
   ]
  },
  {
   "cell_type": "code",
   "execution_count": 102,
   "metadata": {},
   "outputs": [
    {
     "data": {
      "text/html": [
       "<div>\n",
       "<style scoped>\n",
       "    .dataframe tbody tr th:only-of-type {\n",
       "        vertical-align: middle;\n",
       "    }\n",
       "\n",
       "    .dataframe tbody tr th {\n",
       "        vertical-align: top;\n",
       "    }\n",
       "\n",
       "    .dataframe thead th {\n",
       "        text-align: right;\n",
       "    }\n",
       "</style>\n",
       "<table border=\"1\" class=\"dataframe\">\n",
       "  <thead>\n",
       "    <tr style=\"text-align: right;\">\n",
       "      <th></th>\n",
       "      <th>EVENT.ID</th>\n",
       "      <th>INVESTIGATION.TYPE</th>\n",
       "      <th>ACCIDENT.NUMBER</th>\n",
       "      <th>EVENT.DATE</th>\n",
       "      <th>LOCATION</th>\n",
       "      <th>COUNTRY</th>\n",
       "      <th>INJURY.SEVERITY</th>\n",
       "      <th>AIRCRAFT.DAMAGE</th>\n",
       "      <th>REGISTRATION.NUMBER</th>\n",
       "      <th>MAKE</th>\n",
       "      <th>...</th>\n",
       "      <th>TOTAL.FATAL.INJURIES</th>\n",
       "      <th>TOTAL.SERIOUS.INJURIES</th>\n",
       "      <th>TOTAL.MINOR.INJURIES</th>\n",
       "      <th>TOTAL.UNINJURED</th>\n",
       "      <th>WEATHER.CONDITION</th>\n",
       "      <th>REPORT.STATUS</th>\n",
       "      <th>PUBLICATION.DATE</th>\n",
       "      <th>TOWN</th>\n",
       "      <th>ABBREVIATION</th>\n",
       "      <th>US_STATE</th>\n",
       "    </tr>\n",
       "  </thead>\n",
       "  <tbody>\n",
       "    <tr>\n",
       "      <th>0</th>\n",
       "      <td>20001218X45444</td>\n",
       "      <td>Accident</td>\n",
       "      <td>SEA87LA080</td>\n",
       "      <td>1948-10-24</td>\n",
       "      <td>MOOSE CREEK, ID</td>\n",
       "      <td>United States</td>\n",
       "      <td>Fatal(2)</td>\n",
       "      <td>Destroyed</td>\n",
       "      <td>NC6404</td>\n",
       "      <td>STINSON</td>\n",
       "      <td>...</td>\n",
       "      <td>2.0</td>\n",
       "      <td>0.0</td>\n",
       "      <td>0.0</td>\n",
       "      <td>0.0</td>\n",
       "      <td>UNK</td>\n",
       "      <td>Probable Cause</td>\n",
       "      <td>NaN</td>\n",
       "      <td>MOOSE CREEK</td>\n",
       "      <td>ID</td>\n",
       "      <td>Idaho</td>\n",
       "    </tr>\n",
       "    <tr>\n",
       "      <th>1</th>\n",
       "      <td>20001218X45447</td>\n",
       "      <td>Accident</td>\n",
       "      <td>LAX94LA336</td>\n",
       "      <td>1962-07-19</td>\n",
       "      <td>BRIDGEPORT, CA</td>\n",
       "      <td>United States</td>\n",
       "      <td>Fatal(4)</td>\n",
       "      <td>Destroyed</td>\n",
       "      <td>N5069P</td>\n",
       "      <td>PIPER</td>\n",
       "      <td>...</td>\n",
       "      <td>4.0</td>\n",
       "      <td>0.0</td>\n",
       "      <td>0.0</td>\n",
       "      <td>0.0</td>\n",
       "      <td>UNK</td>\n",
       "      <td>Probable Cause</td>\n",
       "      <td>19-09-1996</td>\n",
       "      <td>BRIDGEPORT</td>\n",
       "      <td>CA</td>\n",
       "      <td>California</td>\n",
       "    </tr>\n",
       "    <tr>\n",
       "      <th>2</th>\n",
       "      <td>20061025X01555</td>\n",
       "      <td>Accident</td>\n",
       "      <td>NYC07LA005</td>\n",
       "      <td>1974-08-30</td>\n",
       "      <td>SALTVILLE, VA</td>\n",
       "      <td>United States</td>\n",
       "      <td>Fatal(3)</td>\n",
       "      <td>Destroyed</td>\n",
       "      <td>N5142R</td>\n",
       "      <td>CESSNA</td>\n",
       "      <td>...</td>\n",
       "      <td>3.0</td>\n",
       "      <td>0.0</td>\n",
       "      <td>0.0</td>\n",
       "      <td>5.0</td>\n",
       "      <td>IMC</td>\n",
       "      <td>Probable Cause</td>\n",
       "      <td>26-02-2007</td>\n",
       "      <td>Saltville</td>\n",
       "      <td>VA</td>\n",
       "      <td>Virginia</td>\n",
       "    </tr>\n",
       "    <tr>\n",
       "      <th>3</th>\n",
       "      <td>20001218X45448</td>\n",
       "      <td>Accident</td>\n",
       "      <td>LAX96LA321</td>\n",
       "      <td>1977-06-19</td>\n",
       "      <td>EUREKA, CA</td>\n",
       "      <td>United States</td>\n",
       "      <td>Fatal(2)</td>\n",
       "      <td>Destroyed</td>\n",
       "      <td>N1168J</td>\n",
       "      <td>ROCKWELL</td>\n",
       "      <td>...</td>\n",
       "      <td>2.0</td>\n",
       "      <td>0.0</td>\n",
       "      <td>0.0</td>\n",
       "      <td>0.0</td>\n",
       "      <td>IMC</td>\n",
       "      <td>Probable Cause</td>\n",
       "      <td>12-09-2000</td>\n",
       "      <td>EUREKA</td>\n",
       "      <td>CA</td>\n",
       "      <td>California</td>\n",
       "    </tr>\n",
       "    <tr>\n",
       "      <th>4</th>\n",
       "      <td>20041105X01764</td>\n",
       "      <td>Accident</td>\n",
       "      <td>CHI79FA064</td>\n",
       "      <td>1979-08-02</td>\n",
       "      <td>CANTON, OH</td>\n",
       "      <td>United States</td>\n",
       "      <td>Fatal(1)</td>\n",
       "      <td>Destroyed</td>\n",
       "      <td>N15NY</td>\n",
       "      <td>CESSNA</td>\n",
       "      <td>...</td>\n",
       "      <td>1.0</td>\n",
       "      <td>2.0</td>\n",
       "      <td>0.0</td>\n",
       "      <td>0.0</td>\n",
       "      <td>VMC</td>\n",
       "      <td>Probable Cause</td>\n",
       "      <td>16-04-1980</td>\n",
       "      <td>Canton</td>\n",
       "      <td>OH</td>\n",
       "      <td>Ohio</td>\n",
       "    </tr>\n",
       "  </tbody>\n",
       "</table>\n",
       "<p>5 rows × 25 columns</p>\n",
       "</div>"
      ],
      "text/plain": [
       "         EVENT.ID INVESTIGATION.TYPE ACCIDENT.NUMBER  EVENT.DATE  \\\n",
       "0  20001218X45444           Accident      SEA87LA080  1948-10-24   \n",
       "1  20001218X45447           Accident      LAX94LA336  1962-07-19   \n",
       "2  20061025X01555           Accident      NYC07LA005  1974-08-30   \n",
       "3  20001218X45448           Accident      LAX96LA321  1977-06-19   \n",
       "4  20041105X01764           Accident      CHI79FA064  1979-08-02   \n",
       "\n",
       "          LOCATION        COUNTRY INJURY.SEVERITY AIRCRAFT.DAMAGE  \\\n",
       "0  MOOSE CREEK, ID  United States        Fatal(2)       Destroyed   \n",
       "1   BRIDGEPORT, CA  United States        Fatal(4)       Destroyed   \n",
       "2    SALTVILLE, VA  United States        Fatal(3)       Destroyed   \n",
       "3       EUREKA, CA  United States        Fatal(2)       Destroyed   \n",
       "4       CANTON, OH  United States        Fatal(1)       Destroyed   \n",
       "\n",
       "  REGISTRATION.NUMBER      MAKE  ... TOTAL.FATAL.INJURIES  \\\n",
       "0              NC6404   STINSON  ...                  2.0   \n",
       "1              N5069P     PIPER  ...                  4.0   \n",
       "2              N5142R    CESSNA  ...                  3.0   \n",
       "3              N1168J  ROCKWELL  ...                  2.0   \n",
       "4               N15NY    CESSNA  ...                  1.0   \n",
       "\n",
       "  TOTAL.SERIOUS.INJURIES  TOTAL.MINOR.INJURIES TOTAL.UNINJURED  \\\n",
       "0                    0.0                   0.0             0.0   \n",
       "1                    0.0                   0.0             0.0   \n",
       "2                    0.0                   0.0             5.0   \n",
       "3                    0.0                   0.0             0.0   \n",
       "4                    2.0                   0.0             0.0   \n",
       "\n",
       "  WEATHER.CONDITION   REPORT.STATUS  PUBLICATION.DATE         TOWN  \\\n",
       "0               UNK  Probable Cause               NaN  MOOSE CREEK   \n",
       "1               UNK  Probable Cause        19-09-1996   BRIDGEPORT   \n",
       "2               IMC  Probable Cause        26-02-2007    Saltville   \n",
       "3               IMC  Probable Cause        12-09-2000       EUREKA   \n",
       "4               VMC  Probable Cause        16-04-1980       Canton   \n",
       "\n",
       "   ABBREVIATION    US_STATE  \n",
       "0            ID       Idaho  \n",
       "1            CA  California  \n",
       "2            VA    Virginia  \n",
       "3            CA  California  \n",
       "4            OH        Ohio  \n",
       "\n",
       "[5 rows x 25 columns]"
      ]
     },
     "execution_count": 102,
     "metadata": {},
     "output_type": "execute_result"
    }
   ],
   "source": [
    "# We can use the str.strip function on colunms to strip the leading and trailing spaces\n",
    "#\n",
    "df_merged.columns= df_merged.columns.str.strip()\n",
    "\n",
    "# Display the first five rows in the data set\n",
    "df_merged.head()\n"
   ]
  },
  {
   "cell_type": "markdown",
   "metadata": {},
   "source": [
    "### 2.3.2.3 Changing data formats to the appropriate data type"
   ]
  },
  {
   "cell_type": "code",
   "execution_count": 103,
   "metadata": {},
   "outputs": [
    {
     "name": "stdout",
     "output_type": "stream",
     "text": [
      "EVENT.ID                          object\n",
      "INVESTIGATION.TYPE                object\n",
      "ACCIDENT.NUMBER                   object\n",
      "EVENT.DATE                datetime64[ns]\n",
      "LOCATION                          object\n",
      "COUNTRY                           object\n",
      "INJURY.SEVERITY                   object\n",
      "AIRCRAFT.DAMAGE                   object\n",
      "REGISTRATION.NUMBER               object\n",
      "MAKE                              object\n",
      "MODEL                             object\n",
      "AMATEUR.BUILT                     object\n",
      "NUMBER.OF.ENGINES                float64\n",
      "ENGINE.TYPE                       object\n",
      "PURPOSE.OF.FLIGHT                 object\n",
      "TOTAL.FATAL.INJURIES             float64\n",
      "TOTAL.SERIOUS.INJURIES           float64\n",
      "TOTAL.MINOR.INJURIES             float64\n",
      "TOTAL.UNINJURED                  float64\n",
      "WEATHER.CONDITION                 object\n",
      "REPORT.STATUS                     object\n",
      "PUBLICATION.DATE          datetime64[ns]\n",
      "TOWN                              object\n",
      "ABBREVIATION                      object\n",
      "US_STATE                          object\n",
      "dtype: object\n"
     ]
    }
   ],
   "source": [
    "# Convert the 'Date' column to datetime format\n",
    "#\n",
    "# Converting 'EVENT.DATE' to datetime format\n",
    "df_merged['EVENT.DATE'] = pd.to_datetime(df_merged['EVENT.DATE'])\n",
    "\n",
    "# Converting 'PUBLICATION.DATE' to datetime format\n",
    "df_merged['PUBLICATION.DATE'] = pd.to_datetime(df_merged['PUBLICATION.DATE'])\n",
    "\n",
    "# To check the data types of columns in the data frame\n",
    "print(df_merged.dtypes)"
   ]
  },
  {
   "cell_type": "markdown",
   "metadata": {},
   "source": [
    "# 3.0 Exploratory Data Analysis"
   ]
  },
  {
   "cell_type": "markdown",
   "metadata": {},
   "source": [
    "### 3.1 Descriptive statistics"
   ]
  },
  {
   "cell_type": "markdown",
   "metadata": {},
   "source": [
    "Overview of what each column contains to aid in establishing the data exploration to consider"
   ]
  },
  {
   "cell_type": "code",
   "execution_count": 104,
   "metadata": {},
   "outputs": [
    {
     "data": {
      "text/html": [
       "<div>\n",
       "<style scoped>\n",
       "    .dataframe tbody tr th:only-of-type {\n",
       "        vertical-align: middle;\n",
       "    }\n",
       "\n",
       "    .dataframe tbody tr th {\n",
       "        vertical-align: top;\n",
       "    }\n",
       "\n",
       "    .dataframe thead th {\n",
       "        text-align: right;\n",
       "    }\n",
       "</style>\n",
       "<table border=\"1\" class=\"dataframe\">\n",
       "  <thead>\n",
       "    <tr style=\"text-align: right;\">\n",
       "      <th></th>\n",
       "      <th>NUMBER.OF.ENGINES</th>\n",
       "      <th>TOTAL.FATAL.INJURIES</th>\n",
       "      <th>TOTAL.SERIOUS.INJURIES</th>\n",
       "      <th>TOTAL.MINOR.INJURIES</th>\n",
       "      <th>TOTAL.UNINJURED</th>\n",
       "    </tr>\n",
       "  </thead>\n",
       "  <tbody>\n",
       "    <tr>\n",
       "      <th>count</th>\n",
       "      <td>88889.000000</td>\n",
       "      <td>88889.000000</td>\n",
       "      <td>88889.000000</td>\n",
       "      <td>88889.000000</td>\n",
       "      <td>88889.000000</td>\n",
       "    </tr>\n",
       "    <tr>\n",
       "      <th>mean</th>\n",
       "      <td>1.136552</td>\n",
       "      <td>0.693022</td>\n",
       "      <td>0.240491</td>\n",
       "      <td>0.309127</td>\n",
       "      <td>5.303795</td>\n",
       "    </tr>\n",
       "    <tr>\n",
       "      <th>std</th>\n",
       "      <td>0.432545</td>\n",
       "      <td>5.123423</td>\n",
       "      <td>1.434614</td>\n",
       "      <td>2.083715</td>\n",
       "      <td>26.969508</td>\n",
       "    </tr>\n",
       "    <tr>\n",
       "      <th>min</th>\n",
       "      <td>0.000000</td>\n",
       "      <td>0.000000</td>\n",
       "      <td>0.000000</td>\n",
       "      <td>0.000000</td>\n",
       "      <td>0.000000</td>\n",
       "    </tr>\n",
       "    <tr>\n",
       "      <th>25%</th>\n",
       "      <td>1.000000</td>\n",
       "      <td>0.000000</td>\n",
       "      <td>0.000000</td>\n",
       "      <td>0.000000</td>\n",
       "      <td>0.000000</td>\n",
       "    </tr>\n",
       "    <tr>\n",
       "      <th>50%</th>\n",
       "      <td>1.000000</td>\n",
       "      <td>0.000000</td>\n",
       "      <td>0.000000</td>\n",
       "      <td>0.000000</td>\n",
       "      <td>1.000000</td>\n",
       "    </tr>\n",
       "    <tr>\n",
       "      <th>75%</th>\n",
       "      <td>1.000000</td>\n",
       "      <td>1.000000</td>\n",
       "      <td>0.000000</td>\n",
       "      <td>0.000000</td>\n",
       "      <td>2.000000</td>\n",
       "    </tr>\n",
       "    <tr>\n",
       "      <th>max</th>\n",
       "      <td>8.000000</td>\n",
       "      <td>349.000000</td>\n",
       "      <td>161.000000</td>\n",
       "      <td>380.000000</td>\n",
       "      <td>699.000000</td>\n",
       "    </tr>\n",
       "  </tbody>\n",
       "</table>\n",
       "</div>"
      ],
      "text/plain": [
       "       NUMBER.OF.ENGINES  TOTAL.FATAL.INJURIES  TOTAL.SERIOUS.INJURIES  \\\n",
       "count       88889.000000          88889.000000            88889.000000   \n",
       "mean            1.136552              0.693022                0.240491   \n",
       "std             0.432545              5.123423                1.434614   \n",
       "min             0.000000              0.000000                0.000000   \n",
       "25%             1.000000              0.000000                0.000000   \n",
       "50%             1.000000              0.000000                0.000000   \n",
       "75%             1.000000              1.000000                0.000000   \n",
       "max             8.000000            349.000000              161.000000   \n",
       "\n",
       "       TOTAL.MINOR.INJURIES  TOTAL.UNINJURED  \n",
       "count          88889.000000     88889.000000  \n",
       "mean               0.309127         5.303795  \n",
       "std                2.083715        26.969508  \n",
       "min                0.000000         0.000000  \n",
       "25%                0.000000         0.000000  \n",
       "50%                0.000000         1.000000  \n",
       "75%                0.000000         2.000000  \n",
       "max              380.000000       699.000000  "
      ]
     },
     "execution_count": 104,
     "metadata": {},
     "output_type": "execute_result"
    }
   ],
   "source": [
    "# Check the statistics of the df_merged data frame\n",
    "\n",
    "df_merged.describe()"
   ]
  },
  {
   "cell_type": "markdown",
   "metadata": {},
   "source": [
    "Overview of the descriptive statistics on 'NUMBER.OF.ENGINES',\t'TOTAL.FATAL.INJURIES',\t'TOTAL.SERIOUS.INJURIES',\t'TOTAL.MINOR.INJURIES' and\t'TOTAL.UNINJURED' columns\n",
    "- All the analysed columns specified above have 88,889 non-null values\n",
    "\n",
    "##### NUMBER.OF.ENGINES\n",
    "- Most aircrafts have one engine, while the aircraft with the highest number of engines was eight. \n",
    "- The variation in the number engines existed at 0.4325.\n",
    "\n",
    "##### TOTAL.FATAL.INJURIES\n",
    "- Most aircrafts accidents had zero fatal injuries with average less than 1.\n",
    "- The highest fatal injuries was 349. \n",
    "- The variability in total fatal injuries was higher at 5.1234.\n",
    "\n",
    "##### TOTAL.SERIOUS.INJURIES\n",
    "- Most aircrafts accidents had zero serious injuries as the average neared zero.\n",
    "- The highest serious injuries was 161.\n",
    "- The variation in the total serious injuries existed at 1.4346. \n",
    "\n",
    "##### TOTAL.MINOR.INJURIES\n",
    "- Most aircrafts accidents had zero minor injuries as the average neared zero.\n",
    "- The highest minor injuries was 380. \n",
    "- There was variability of the number of minor injuries among aircrafts at standard deviation of 2.0837.\n",
    "\n",
    "##### TOTAL.UNINJURED\n",
    "- Most aircrafts accidents had uninjured case averaging around 5.\n",
    "- The highest uninjured was 699. \n",
    "- The variability in total uninjured was high at 26.9695. \n",
    "\n"
   ]
  },
  {
   "cell_type": "markdown",
   "metadata": {},
   "source": [
    "### 3.2 Analysing relationships"
   ]
  },
  {
   "cell_type": "markdown",
   "metadata": {},
   "source": [
    "### 3.2.1 Univariate\n",
    "- Analyse one variable at a time"
   ]
  },
  {
   "cell_type": "code",
   "execution_count": 105,
   "metadata": {},
   "outputs": [
    {
     "data": {
      "image/png": "[encoded data removed]",
      "text/plain": [
       "<Figure size 936x504 with 1 Axes>"
      ]
     },
     "metadata": {
      "needs_background": "light"
     },
     "output_type": "display_data"
    }
   ],
   "source": [
    "#check distribution of the total fatal injuries using Kernel Density Estimate (KDE)\n",
    "#\n",
    "plt.figure(figsize=(13, 7)) # sizing the graph\n",
    "sns.kdeplot(df_merged['TOTAL.FATAL.INJURIES'], shade=True, color='green') # plotting the kde plot\n",
    "\n",
    "plt.title('Distribution of Total Fatal Injuries Reported During Aviation Accidents', fontsize=20) # title label\n",
    "plt.xlabel('Total Fatal Injuries in Aviation Accident', fontsize=16) # x-axis label\n",
    "plt.ylabel('Density of Fatal Injuries in Aviation Accident', fontsize=16) # y-axis title\n",
    "\n",
    "\n",
    "plt.show() # show the plot"
   ]
  },
  {
   "cell_type": "markdown",
   "metadata": {},
   "source": [
    "There was a high frequency of fatal injuries with a frequency close to zero."
   ]
  },
  {
   "cell_type": "code",
   "execution_count": 106,
   "metadata": {},
   "outputs": [
    {
     "data": {
      "image/png": "[encoded data removed]",
      "text/plain": [
       "<Figure size 936x576 with 1 Axes>"
      ]
     },
     "metadata": {
      "needs_background": "light"
     },
     "output_type": "display_data"
    }
   ],
   "source": [
    "#check distribution of the total uninjured using Kernel Density Estimate (KDE)\n",
    "#\n",
    "plt.figure(figsize=(13, 8)) # sizing the graph\n",
    "sns.kdeplot(df_merged['TOTAL.UNINJURED'], shade=True, color='green') # plotting the kde plot\n",
    "\n",
    "plt.title('Distribution of Total Uninjured Reported During Aviation Accidents', fontsize=20) # title label\n",
    "plt.xlabel('Total Uninjured Passengers in Aviation Accident', fontsize=16) # x-axis label\n",
    "plt.ylabel('Density of Uninjured Passengers in Aviation Accident', fontsize=16) # y-axis title\n",
    "\n",
    "\n",
    "plt.show() # show the plot"
   ]
  },
  {
   "cell_type": "markdown",
   "metadata": {},
   "source": [
    "There was a high number of aviation accidents reported uninjured passengers with a frequency of 1. "
   ]
  },
  {
   "cell_type": "markdown",
   "metadata": {},
   "source": [
    "### 3.2.2 Bivariate analysis\n",
    "- Analyse relationship between two variables"
   ]
  },
  {
   "cell_type": "markdown",
   "metadata": {},
   "source": [
    "Bivariate analysis between event date and total uninjured"
   ]
  },
  {
   "cell_type": "code",
   "execution_count": 107,
   "metadata": {},
   "outputs": [
    {
     "data": {
      "image/png": "[encoded data removed]",
      "text/plain": [
       "<Figure size 936x576 with 1 Axes>"
      ]
     },
     "metadata": {
      "needs_background": "light"
     },
     "output_type": "display_data"
    }
   ],
   "source": [
    "# Plotting scatter plot to check the relationship between event date and total uninjured\n",
    "#\n",
    "plt.figure(figsize=(13, 8)) # sizing the graph\n",
    "\n",
    "plt.scatter(df_merged['EVENT.DATE'], df_merged['TOTAL.UNINJURED'], color='green') # Help come up with the scatter plot\n",
    "\n",
    "\n",
    "plt.title('Relationship between Total Uninjured and Accident Date', fontsize=20) # Scatter plot title\n",
    "plt.xlabel('Year Aviation Accident Ocurred', fontsize=16) # x-axis title\n",
    "plt.ylabel('Total Uninjured Passenger in Aviation Accident', fontsize=16) # y-axis label\n",
    "\n",
    "plt.show() # Show the plot\n"
   ]
  },
  {
   "cell_type": "markdown",
   "metadata": {},
   "source": [
    "There was no correlation between event data and the total uninjured"
   ]
  },
  {
   "cell_type": "markdown",
   "metadata": {},
   "source": [
    "Bivariate analysis between event date and total uninjured"
   ]
  },
  {
   "cell_type": "code",
   "execution_count": 108,
   "metadata": {},
   "outputs": [
    {
     "data": {
      "image/png": "[encoded data removed]",
      "text/plain": [
       "<Figure size 936x432 with 1 Axes>"
      ]
     },
     "metadata": {
      "needs_background": "light"
     },
     "output_type": "display_data"
    }
   ],
   "source": [
    "# Plotting scatter plot to check the relationship between event date and total uninjured\n",
    "#\n",
    "plt.figure(figsize=(13, 6)) # sizing the graph\n",
    "\n",
    "plt.scatter(df_merged['NUMBER.OF.ENGINES'], df_merged['TOTAL.FATAL.INJURIES'], color='green') # Help come up wiht the scatter plot\n",
    "\n",
    "\n",
    "plt.title('Relationship between Number of Engines and Total Fatal Injuries Reported', fontsize=20) # Scatter plot title\n",
    "plt.xlabel('Number of Engines per Aircraft', fontsize=16) # x-axis title\n",
    "plt.ylabel('Total Fatal Injuries Experienced', fontsize=16) # y-axis label\n",
    "\n",
    "plt.show() # Show the plot\n"
   ]
  },
  {
   "cell_type": "markdown",
   "metadata": {},
   "source": [
    "There were multiple fatal injuriries at specific values of number of engines. "
   ]
  },
  {
   "cell_type": "markdown",
   "metadata": {},
   "source": [
    "### 3.2.3 Multivariate analysis\n",
    "Examines relationship between multiple variables at ago"
   ]
  },
  {
   "cell_type": "code",
   "execution_count": 109,
   "metadata": {},
   "outputs": [
    {
     "data": {
      "image/png": "[encoded data removed]",
      "text/plain": [
       "<Figure size 1224x576 with 1 Axes>"
      ]
     },
     "metadata": {
      "needs_background": "light"
     },
     "output_type": "display_data"
    }
   ],
   "source": [
    "# Plotting scatter plot to check the relationship between weather condition and total fatal injuries a& and total uninjured\n",
    "#\n",
    "Total_uninjured_investigation_agg=df_merged.groupby('WEATHER.CONDITION')['TOTAL.UNINJURED'].sum().sort_values(ascending=False).head(10)\n",
    "Total_fatal_injuries_investigation_agg=df_merged.groupby('WEATHER.CONDITION')['TOTAL.UNINJURED'].sum().sort_values(ascending=False).head(10)\n",
    "\n",
    "plt.figure(figsize=(17, 8)) # sizing the graph\n",
    "sns.scatterplot(x=df_merged['TOTAL.UNINJURED'], y=df_merged['TOTAL.FATAL.INJURIES'], hue='WEATHER.CONDITION', data=df_merged, legend='full', alpha = .7, palette=\"Set1\")  # Help come up wiht the scatter plot\n",
    "\n",
    "\n",
    "plt.title('Relatioship between Weather Condition and Number of Total Uninjured & Total Fatal Injuries', fontsize=20) # Scatter plot title\n",
    "plt.xlabel('Total Uninjured Passengers in Aviation Accidents', fontsize=16) # x-axis title\n",
    "plt.ylabel('Total Fatal Injuries in Aviation Accidents', fontsize=16) # y-axis label\n",
    "\n",
    "plt.show() # Show the plot"
   ]
  },
  {
   "cell_type": "markdown",
   "metadata": {},
   "source": [
    "Both total uninjured and total fatal injuries have outliers among the accident types under VMC weather condition. The total uninjured passengers and total fatal injuries are concentrated around zero under VMC weather condition."
   ]
  },
  {
   "cell_type": "markdown",
   "metadata": {},
   "source": [
    "### Grouping for analysis"
   ]
  },
  {
   "cell_type": "markdown",
   "metadata": {},
   "source": [
    "Establishing total fatalities per Engine type"
   ]
  },
  {
   "cell_type": "code",
   "execution_count": 110,
   "metadata": {},
   "outputs": [
    {
     "name": "stdout",
     "output_type": "stream",
     "text": [
      "ENGINE.TYPE\n",
      "RECIPROCATING      50224.0\n",
      "TURBO FAN           5047.0\n",
      "TURBO PROP          3089.0\n",
      "TURBO SHAFT         2264.0\n",
      "TURBO JET            975.0\n",
      "ELECTRIC               2.0\n",
      "HYBRID ROCKET          1.0\n",
      "UNK                    0.0\n",
      "LR                     0.0\n",
      "GEARED TURBOFAN        0.0\n",
      "Name: TOTAL.FATAL.INJURIES, dtype: float64\n"
     ]
    }
   ],
   "source": [
    "# Group by 'Engine type' and sum the TOTAL.FATAL.INJURIES to establish total fatal injuries per Engine type\n",
    "#\n",
    "TOTAL_FATAL_INJURIES_PER_ENGINE_TYPE = df_merged.groupby('ENGINE.TYPE')['TOTAL.FATAL.INJURIES'].sum().sort_values(ascending=False)\n",
    "print(TOTAL_FATAL_INJURIES_PER_ENGINE_TYPE)"
   ]
  },
  {
   "cell_type": "markdown",
   "metadata": {},
   "source": [
    "Plotting bar graph of total fatalities per engine type"
   ]
  },
  {
   "cell_type": "code",
   "execution_count": 111,
   "metadata": {},
   "outputs": [
    {
     "data": {
      "image/png": "[encoded data removed]",
      "text/plain": [
       "<Figure size 936x576 with 1 Axes>"
      ]
     },
     "metadata": {
      "needs_background": "light"
     },
     "output_type": "display_data"
    }
   ],
   "source": [
    "#plotting the Total fatal injuries per engine type using matplotlib\n",
    "#\n",
    "ENGINE_TYPE_PER_FATALITIES = TOTAL_FATAL_INJURIES_PER_ENGINE_TYPE\n",
    "\n",
    "plt.figure(figsize=(13, 8)) # sizing the graph\n",
    "\n",
    "ENGINE_TYPE_PER_FATALITIES.plot(kind='bar', color='#95D2B3', width=0.8) # bar plot features\n",
    "\n",
    "plt.title('Total Fatal Injuries per Engine Type', fontsize=20) # title of the bar graph\n",
    "\n",
    "plt.xlabel('Aircraft Engine Type', fontsize=16) # X-axis label\n",
    "plt.ylabel('Total Number of Fatal Injuries in Aviation Accidents', fontsize=16) # y-axis label\n",
    "plt.xticks(rotation=45, ha='right') # to rotate the x-axis labels for visualisation\n",
    "\n",
    "plt.show()"
   ]
  },
  {
   "cell_type": "markdown",
   "metadata": {},
   "source": [
    "UNK, LR, GEARED TURBOFAN engine types had not had fatalities over the period of review, i.e. between October 1948 and December 2022., turning out to be the safest engine types for an aircraft. RECIPROCATING, TURBO FAN and TURBO PROP were the engine types with the highest fatalities, proving to the most dangerous."
   ]
  },
  {
   "cell_type": "markdown",
   "metadata": {},
   "source": [
    "Establishing Total Uninjured per Engine type"
   ]
  },
  {
   "cell_type": "code",
   "execution_count": 112,
   "metadata": {},
   "outputs": [
    {
     "name": "stdout",
     "output_type": "stream",
     "text": [
      "ENGINE.TYPE\n",
      "TURBO FAN          211368.0\n",
      "RECIPROCATING      201222.0\n",
      "TURBO JET           34247.0\n",
      "TURBO PROP          18185.0\n",
      "TURBO SHAFT          6288.0\n",
      "GEARED TURBOFAN       121.0\n",
      "LR                     11.0\n",
      "ELECTRIC                7.0\n",
      "UNK                     0.0\n",
      "HYBRID ROCKET           0.0\n",
      "Name: TOTAL.UNINJURED, dtype: float64\n"
     ]
    }
   ],
   "source": [
    "TOTAL_UNINJURED_PER_ENGINE_TYPE = df_merged.groupby('ENGINE.TYPE')['TOTAL.UNINJURED'].sum().sort_values(ascending=False)\n",
    "print(TOTAL_UNINJURED_PER_ENGINE_TYPE)"
   ]
  },
  {
   "cell_type": "code",
   "execution_count": 113,
   "metadata": {},
   "outputs": [
    {
     "data": {
      "image/png": "[encoded data removed]",
      "text/plain": [
       "<Figure size 936x432 with 1 Axes>"
      ]
     },
     "metadata": {
      "needs_background": "light"
     },
     "output_type": "display_data"
    }
   ],
   "source": [
    "#plotting the Total Uninjured per engine type using matplotlib\n",
    "#\n",
    "ENGINE_TYPE_PER_NO_INJURIES = TOTAL_UNINJURED_PER_ENGINE_TYPE\n",
    "\n",
    "plt.figure(figsize=(13, 6)) # sizing the graph\n",
    "\n",
    "ENGINE_TYPE_PER_NO_INJURIES.plot(kind='bar', color='#95D2B3', width=0.8) # bar plot features\n",
    "\n",
    "plt.title('Total Uninjured Passengers During Aviation Accidents per Engine Type', fontsize=20) # title of the bar graph\n",
    "\n",
    "plt.xlabel('Aircraft Engine Type', fontsize=16) # X-axis label\n",
    "plt.ylabel('Total Uninjured Passengers', fontsize=16) # y-axis label\n",
    "plt.xticks(rotation=45, ha='right') # to rotate the x-axis labels for visualisation\n",
    "\n",
    "plt.show()"
   ]
  },
  {
   "cell_type": "markdown",
   "metadata": {},
   "source": [
    "Turbo Fan, Reciprocating  and  Turbo Jet are the engine types with then highest uninjired at 211,368, 201,222 and 34,247, respectively during the period under review.\n"
   ]
  },
  {
   "cell_type": "markdown",
   "metadata": {},
   "source": [
    "Plotting bar graph of total fatalities per  number of engines"
   ]
  },
  {
   "cell_type": "code",
   "execution_count": 114,
   "metadata": {},
   "outputs": [
    {
     "name": "stdout",
     "output_type": "stream",
     "text": [
      "NUMBER.OF.ENGINES\n",
      "1.0    46376.0\n",
      "2.0    11903.0\n",
      "4.0     1722.0\n",
      "3.0      936.0\n",
      "0.0      665.0\n",
      "8.0        0.0\n",
      "6.0        0.0\n",
      "Name: TOTAL.FATAL.INJURIES, dtype: float64\n"
     ]
    }
   ],
   "source": [
    "TOTAL_FATAL_INJURIES_PER_NUMBER_OF_ENGINE = df_merged.groupby('NUMBER.OF.ENGINES')['TOTAL.FATAL.INJURIES'].sum().sort_values(ascending=False)\n",
    "\n",
    "print(TOTAL_FATAL_INJURIES_PER_NUMBER_OF_ENGINE)"
   ]
  },
  {
   "cell_type": "code",
   "execution_count": 115,
   "metadata": {},
   "outputs": [
    {
     "data": {
      "image/png": "[encoded data removed]",
      "text/plain": [
       "<Figure size 936x432 with 1 Axes>"
      ]
     },
     "metadata": {
      "needs_background": "light"
     },
     "output_type": "display_data"
    }
   ],
   "source": [
    "# Plot number of engines vs total fatal injuries using matplotlib\n",
    "#\n",
    "# group total fatalities per number of engine\n",
    "ENGINES_PER_FATALITIES=TOTAL_FATAL_INJURIES_PER_NUMBER_OF_ENGINE\n",
    "\n",
    "\n",
    "plt.figure(figsize=(13, 6)) # sizing the graph\n",
    "\n",
    "ENGINES_PER_FATALITIES.plot(kind='bar',color='#95D2B3', width=0.8) # features of the bar graph\n",
    "plt.title('Number of Engines vs Total Fatal Injuries During Aviation Accidents', fontsize=20) # bar title\n",
    "plt.xlabel('Number of Aircraft Engines', fontsize=16) # X-axis label\n",
    "plt.ylabel('Number of fatal injuries', fontsize=16) # y-axis title\n",
    "plt.xticks(rotation=45, ha='right') # to rotate the x-axis labels for visualisation\n",
    "plt.show() "
   ]
  },
  {
   "cell_type": "markdown",
   "metadata": {},
   "source": [
    "Aircraft with 6 or 8 engines experienced nil fatal injuries between October 1948 and December 2022."
   ]
  },
  {
   "cell_type": "markdown",
   "metadata": {},
   "source": [
    "Plotting bar graph of total uninjured per  number of engines"
   ]
  },
  {
   "cell_type": "code",
   "execution_count": 116,
   "metadata": {},
   "outputs": [
    {
     "name": "stdout",
     "output_type": "stream",
     "text": [
      "NUMBER.OF.ENGINES\n",
      "2.0    198945.0\n",
      "1.0    176367.0\n",
      "3.0     51421.0\n",
      "4.0     40987.0\n",
      "0.0      3718.0\n",
      "8.0        11.0\n",
      "6.0         0.0\n",
      "Name: TOTAL.UNINJURED, dtype: float64\n"
     ]
    }
   ],
   "source": [
    "TOTAL_FATAL_UNINJURED_PER_NUMBER_OF_ENGINE = df_merged.groupby('NUMBER.OF.ENGINES')['TOTAL.UNINJURED'].sum().sort_values(ascending=False)\n",
    "\n",
    "print(TOTAL_FATAL_UNINJURED_PER_NUMBER_OF_ENGINE)"
   ]
  },
  {
   "cell_type": "code",
   "execution_count": 117,
   "metadata": {},
   "outputs": [
    {
     "data": {
      "image/png": "[encoded data removed]",
      "text/plain": [
       "<Figure size 936x432 with 1 Axes>"
      ]
     },
     "metadata": {
      "needs_background": "light"
     },
     "output_type": "display_data"
    }
   ],
   "source": [
    "# Plot number of engines vs total uninjured using matplotlib\n",
    "#\n",
    "# group total uninjured per number of engine\n",
    "ENGINES_PER_UNINJURED=TOTAL_FATAL_UNINJURED_PER_NUMBER_OF_ENGINE\n",
    "\n",
    "\n",
    "plt.figure(figsize=(13, 6)) # sizing the graph\n",
    "\n",
    "ENGINES_PER_UNINJURED.plot(kind='bar',color='#95D2B3', width=0.8) # features of the bar graph\n",
    "plt.title('Number of Aircraft Engines vs Total Uninjured During Aviation Accidents', fontsize=20) # bar title\n",
    "plt.xlabel('Number of Aircraft Engines', fontsize=16) # X-axis label\n",
    "plt.ylabel('Number of uninjured during accident', fontsize=16) # y-axis title\n",
    "plt.xticks(rotation=45, ha='right') # to rotate the x-axis labels for visualisation\n",
    "\n",
    "plt.show() "
   ]
  },
  {
   "cell_type": "markdown",
   "metadata": {},
   "source": [
    "Aircraft with 2 engines experienced the highest number of uninjured at 198,945 while those with one engine came second with 176,367 uninjured."
   ]
  },
  {
   "cell_type": "markdown",
   "metadata": {},
   "source": [
    "Plotting a graph of Aircraft make with the highest total uninjured"
   ]
  },
  {
   "cell_type": "code",
   "execution_count": 118,
   "metadata": {},
   "outputs": [
    {
     "name": "stdout",
     "output_type": "stream",
     "text": [
      "MAKE\n",
      "BOEING               209195.0\n",
      "MCDONNELL DOUGLAS     45292.0\n",
      "CESSNA                42522.0\n",
      "PIPER                 22102.0\n",
      "AIRBUS INDUSTRIE      21326.0\n",
      "AIRBUS                21276.0\n",
      "BEECH                 10086.0\n",
      "DOUGLAS                8870.0\n",
      "LOCKHEED               8216.0\n",
      "EMBRAER                6425.0\n",
      "Name: TOTAL.UNINJURED, dtype: float64\n"
     ]
    }
   ],
   "source": [
    "# to get top 10 makes with the highest total uninjured\n",
    "#\n",
    "Top_10_Make_per_Total_Uninjured = df_merged.groupby('MAKE')['TOTAL.UNINJURED'].sum().sort_values(ascending=False).head(10)\n",
    "\n",
    "print(Top_10_Make_per_Total_Uninjured)"
   ]
  },
  {
   "cell_type": "code",
   "execution_count": 119,
   "metadata": {},
   "outputs": [
    {
     "data": {
      "image/png": "[encoded data removed]",
      "text/plain": [
       "<Figure size 936x432 with 1 Axes>"
      ]
     },
     "metadata": {
      "needs_background": "light"
     },
     "output_type": "display_data"
    }
   ],
   "source": [
    "# Relationship between aircraft make vs total uninjured using matplotlib\n",
    "#\n",
    "plt.figure(figsize=(13, 6)) # sizing the graph\n",
    "\n",
    "Top_10_Make_per_Total_Uninjured.plot(kind='bar', color='#95D2B3', width=0.8) # bar plot features\n",
    "\n",
    "plt.title('Total Uninjured Passengers per Aircraft Make During Aviation Accidents', fontsize=20) # title of the bar graph\n",
    "\n",
    "plt.xlabel('Aircraft Make', fontsize=16) # X-axis label\n",
    "plt.ylabel('Total Number of Uninjured', fontsize=16) # y-axis label\n",
    "plt.xticks(rotation=45, ha='right') # to rotate the x-axis labels for visualisation\n",
    "\n",
    "plt.show()"
   ]
  },
  {
   "cell_type": "markdown",
   "metadata": {},
   "source": [
    "Boeing, MCDonnnel Douglas and Cessna makes of aircraft had the highest number of uninjured cases during accidents. Boeing had a considerable number of uninjured at 209,195, with MCDonnel Douglas coming a distant second with 45,292 as uninjured during the accident incidents. Cessna came third with 42,522 uninjured during the period of review."
   ]
  },
  {
   "cell_type": "markdown",
   "metadata": {},
   "source": [
    "Plotting a graph of Aircraft model with the highest total uninjured"
   ]
  },
  {
   "cell_type": "code",
   "execution_count": 120,
   "metadata": {},
   "outputs": [
    {
     "name": "stdout",
     "output_type": "stream",
     "text": [
      "MODEL\n",
      "737         25461.0\n",
      "777          9439.0\n",
      "DC-10-10     6860.0\n",
      "767          6370.0\n",
      "747-400      6280.0\n",
      "DC-10-30     5810.0\n",
      "747          5062.0\n",
      "757          4988.0\n",
      "727-200      4369.0\n",
      "DC-9-82      4121.0\n",
      "Name: TOTAL.UNINJURED, dtype: float64\n"
     ]
    }
   ],
   "source": [
    "# to get top 10 models with the highest total uninjured\n",
    "#\n",
    "Top_10_models_per_Total_Uninjured = df_merged.groupby('MODEL')['TOTAL.UNINJURED'].sum().sort_values(ascending=False).head(10)\n",
    "print(Top_10_models_per_Total_Uninjured)"
   ]
  },
  {
   "cell_type": "code",
   "execution_count": 121,
   "metadata": {},
   "outputs": [
    {
     "data": {
      "image/png": "[encoded data removed]",
      "text/plain": [
       "<Figure size 936x432 with 1 Axes>"
      ]
     },
     "metadata": {
      "needs_background": "light"
     },
     "output_type": "display_data"
    }
   ],
   "source": [
    "# Relationship between aircraft models vs total uninjured using matplotlib\n",
    "#\n",
    "plt.figure(figsize=(13, 6)) # sizing the graph\n",
    "\n",
    "Top_10_models_per_Total_Uninjured.plot(kind='bar', color='#95D2B3', width=0.8) # bar plot features\n",
    "\n",
    "plt.title('Total Uninjured Passsengers per Aircraft Model During Aviation Accidents', fontsize=20) # title of the bar graph\n",
    "\n",
    "plt.xlabel('Aircraft Model', fontsize=16) # X-axis label\n",
    "plt.ylabel('Total Number of Uninjured', fontsize=16) # y-axis label\n",
    "plt.xticks(rotation=45, ha='right') # to rotate the x-axis labels for visualisation\n",
    "\n",
    "plt.show()"
   ]
  },
  {
   "cell_type": "markdown",
   "metadata": {},
   "source": [
    "Models 737, 777 and DC-10-10 had the highest number of uninjured cases during the period under review. Model 737 had considerable number of uninjured at 25,461 incidents while 777 and DC-10-10 reported 9,439 and 6,860 uninjured cases.\n"
   ]
  },
  {
   "cell_type": "markdown",
   "metadata": {},
   "source": [
    "Plotting bar graph of total fatalities per  aircraft make"
   ]
  },
  {
   "cell_type": "code",
   "execution_count": 122,
   "metadata": {},
   "outputs": [
    {
     "name": "stdout",
     "output_type": "stream",
     "text": [
      "MAKE\n",
      "CESSNA               13044.0\n",
      "BOEING                9223.0\n",
      "PIPER                 8364.0\n",
      "BEECH                 4361.0\n",
      "BELL                  1702.0\n",
      "MCDONNELL DOUGLAS     1430.0\n",
      "AIRBUS                1342.0\n",
      "AIRBUS INDUSTRIE      1242.0\n",
      "DOUGLAS               1016.0\n",
      "ROBINSON               890.0\n",
      "Name: TOTAL.FATAL.INJURIES, dtype: float64\n"
     ]
    }
   ],
   "source": [
    "# to get top 10 makes with the highest total fatal injuries\n",
    "#\n",
    "Top_10_Makes_per_Total_Fatal_Injuries = df_merged.groupby('MAKE')['TOTAL.FATAL.INJURIES'].sum().sort_values(ascending=False).head(10)\n",
    "print(Top_10_Makes_per_Total_Fatal_Injuries)"
   ]
  },
  {
   "cell_type": "code",
   "execution_count": 123,
   "metadata": {},
   "outputs": [
    {
     "data": {
      "image/png": "[encoded data removed]",
      "text/plain": [
       "<Figure size 936x432 with 1 Axes>"
      ]
     },
     "metadata": {
      "needs_background": "light"
     },
     "output_type": "display_data"
    }
   ],
   "source": [
    "# Relationship between aircraft make vs total fatal injuries using matplotlib\n",
    "#\n",
    "plt.figure(figsize=(13, 6)) # sizing the graph\n",
    "\n",
    "Top_10_Makes_per_Total_Fatal_Injuries.plot(kind='bar', color='#95D2B3', width=0.8) # bar plot features\n",
    "\n",
    "plt.title('Total Fatal Injuries Per Aircraft Make During Aviation Accidents', fontsize=20) # title of the bar graph\n",
    "\n",
    "plt.xlabel('Aircraft Make', fontsize=16) # X-axis label\n",
    "plt.ylabel('Total Number of Fatal Injuries', fontsize=16) # y-axis label\n",
    "plt.xticks(rotation=45, ha='right') # to rotate the x-axis labels for visualisation\n",
    "\n",
    "plt.show()"
   ]
  },
  {
   "cell_type": "markdown",
   "metadata": {},
   "source": [
    "Cessna, Boeing and Piper are the top three makes of aircraft with the most fatal injuries during accidents at 13,044, 9,223 and 8,364, respectively."
   ]
  },
  {
   "cell_type": "markdown",
   "metadata": {},
   "source": [
    "Plotting bar graph of total fatalities per  aircraft model"
   ]
  },
  {
   "cell_type": "code",
   "execution_count": 124,
   "metadata": {},
   "outputs": [
    {
     "name": "stdout",
     "output_type": "stream",
     "text": [
      "MODEL\n",
      "737          1356.0\n",
      "737-200       919.0\n",
      "152           698.0\n",
      "172N          603.0\n",
      "777 - 206     534.0\n",
      "172           523.0\n",
      "A320          519.0\n",
      "MD-82         456.0\n",
      "PA-28-181     446.0\n",
      "PA-28-140     426.0\n",
      "Name: TOTAL.FATAL.INJURIES, dtype: float64\n"
     ]
    }
   ],
   "source": [
    "# to get top 10 models with the highest total fatal injuries\n",
    "#\n",
    "Top_10_Models_per_Total_Fatal_Injuries = df_merged.groupby('MODEL')['TOTAL.FATAL.INJURIES'].sum().sort_values(ascending=False).head(10)\n",
    "print(Top_10_Models_per_Total_Fatal_Injuries)"
   ]
  },
  {
   "cell_type": "code",
   "execution_count": 125,
   "metadata": {},
   "outputs": [
    {
     "data": {
      "image/png": "[encoded data removed]",
      "text/plain": [
       "<Figure size 936x432 with 1 Axes>"
      ]
     },
     "metadata": {
      "needs_background": "light"
     },
     "output_type": "display_data"
    }
   ],
   "source": [
    "# Relationship between aircraft model vs total fatal injuries using matplotlib\n",
    "#\n",
    "plt.figure(figsize=(13, 6)) # sizing the graph\n",
    "\n",
    "Top_10_Models_per_Total_Fatal_Injuries.plot(kind='bar', color='#95D2B3', width=0.8) # bar plot features\n",
    "\n",
    "plt.title('Total Fatal Injuries Per Aircraft Model During Aviation Accidents', fontsize=20) # title of the bar graph\n",
    "\n",
    "plt.xlabel('Aircraft Model', fontsize=16) # X-axis label\n",
    "plt.ylabel('Total Number of Fatal Injuries', fontsize=16) # y-axis label\n",
    "plt.xticks(rotation=45, ha='right') # to rotate the x-axis labels for visualisation\n",
    "\n",
    "plt.show()"
   ]
  },
  {
   "cell_type": "markdown",
   "metadata": {},
   "source": [
    "# Conclusion"
   ]
  },
  {
   "cell_type": "markdown",
   "metadata": {},
   "source": [
    "\n",
    "## Finding\n",
    "\n",
    "1. Boeing, MCDonnnel Douglas and Cessna makes of aircraft had the highest number of uninjured cases during accidents. Boeing had a considerable number of uninjured at 209,195, with MCDonnel Douglas coming a distant second with 45,292 as uninjured during the accident incidents. Cessna came third with 42,522 uninjured during the period of review.\n",
    "\n",
    "2. Cessna, Boeing and Piper are the top three makes of aircraft with the most fatal injuries during accidents at 13,044, 9,223 and 8,364, respectively. This is as per the as per the analysis of the Aviation Accident Database & Synopses, up to 2023 dataset.\n",
    "\n",
    "3. Aircraft models 737, 737-200, and 152 are the most involved in fatal accidents. \n",
    "\n",
    "4. Models 737, 777 and DC-10-10 had the highest number of uninjured cases during the period under review. Model 737 had considerable number of uninjured at 25,461 incidents while 777 and DC-10-10 reported 9,439 and 6,860 uninjured cases.\n",
    "\n",
    "5. Turbo Fan, Reciprocating  and  Turbo Jet are the engine type with then highest uninjired at 211,368,  201,222 and 34,247, respectively during the period under review.\n",
    "\n",
    "6. Aircraft with 6 or 8 engines experienced nil fatal injuries between October 1948 and December 2022.\n",
    "\n",
    "7. Aircraft with 2 engines experienced the highest number of uninjured at 198,945 while those with one engine came second with 176,367 uninjured.\n",
    "\n",
    "\n",
    "## Based on the above findings, I recommend the following to the compamy so as to obtain an aircraft with the the lowest risk:\n",
    "\n",
    "1. The business to think about buying aircrafts of Boeing and MCDonnell Douglas make. Considering the large proportion of people who reported not being hurt during the accidents between 1948 and 2023, Boeing exhibited a high level of safety. The McDonnell Douglas brand of aircraft is the second safest because, in addition to having the second-highest percentage of unhurt crashes, it did not rank among the top three manufacturers of crashes resulting in the greatest number of fatalities during the evaluation period. \n",
    "\n",
    "2. The aircraft with turbo fan engines had the highest number of uninjured occurrences as per the analysis of the Aviation Accident Database & Synopses, up to 2023 dataset, making them safe for the company to purchase. \n",
    "\n",
    "3.  The aircraft with two engines proved to be the safest, with the maximum number of uninjured—198,945—while the aircraft with one engine came in second with 176,367 uninjured. The corporation should purchase one of these aircrafts.\n",
    "\n",
    "\n",
    "\n"
   ]
  },
  {
   "cell_type": "markdown",
   "metadata": {},
   "source": [
    "Saving cleaned data to csv"
   ]
  },
  {
   "cell_type": "code",
   "execution_count": 126,
   "metadata": {},
   "outputs": [],
   "source": [
    "# Saving a dataframe to a csv using .to_csv\n",
    "#\n",
    "df_merged.to_csv('Merged_aviation_data.csv', index=False)"
   ]
  },
  {
   "cell_type": "markdown",
   "metadata": {},
   "source": [
    "Successfully exported the cleaned dataframe to csv format."
   ]
  }
 ],
 "metadata": {
  "kernelspec": {
   "display_name": "Python 3 (ipykernel)",
   "language": "python",
   "name": "python3"
  },
  "language_info": {
   "codemirror_mode": {
    "name": "ipython",
    "version": 3
   },
   "file_extension": ".py",
   "mimetype": "text/x-python",
   "name": "python",
   "nbconvert_exporter": "python",
   "pygments_lexer": "ipython3",
   "version": "3.8.5"
  }
 },
 "nbformat": 4,
 "nbformat_minor": 4
}
